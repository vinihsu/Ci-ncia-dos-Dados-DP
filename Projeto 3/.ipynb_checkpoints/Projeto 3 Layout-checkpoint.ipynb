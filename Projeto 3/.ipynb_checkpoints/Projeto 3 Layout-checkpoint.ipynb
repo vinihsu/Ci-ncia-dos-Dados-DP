{
 "cells": [
  {
   "cell_type": "markdown",
   "metadata": {},
   "source": [
    "___\n",
    "# Ciência dos Dados - PROJETO 3 - INSPER"
   ]
  },
  {
   "cell_type": "markdown",
   "metadata": {},
   "source": [
    "___\n",
    "## Nome 1 - João Laet Toledo César\n",
    "\n",
    "## Nome 2 - Pedro Isidoro\n",
    "\n",
    "## Nome 3 - Vinicius Hsu\n",
    "\n",
    "___"
   ]
  },
  {
   "cell_type": "markdown",
   "metadata": {},
   "source": [
    "___\n",
    "\n",
    "## INTRODUÇÃO"
   ]
  },
  {
   "cell_type": "markdown",
   "metadata": {},
   "source": [
    "[Detalhe aqui o objetivo deste projeto!!]"
   ]
  },
  {
   "cell_type": "markdown",
   "metadata": {},
   "source": [
    "___\n",
    "## MINERANDO DADOS e CARACTERÍSTICAS DO DATASET"
   ]
  },
  {
   "cell_type": "markdown",
   "metadata": {},
   "source": [
    "[Detalhe aqui as características da base de dados além da análise descritiva.]"
   ]
  },
  {
   "cell_type": "code",
   "execution_count": 1,
   "metadata": {},
   "outputs": [
    {
     "name": "stderr",
     "output_type": "stream",
     "text": [
      "C:\\Users\\Vinicius\\Anaconda3\\lib\\site-packages\\statsmodels\\compat\\pandas.py:56: FutureWarning: The pandas.core.datetools module is deprecated and will be removed in a future version. Please use the pandas.tseries module instead.\n",
      "  from pandas.core import datetools\n"
     ]
    }
   ],
   "source": [
    "%matplotlib inline\n",
    "import numpy as np\n",
    "import pandas as pd\n",
    "import matplotlib.pyplot as plt\n",
    "import os\n",
    "from numpy import arange\n",
    "from sklearn.utils import shuffle\n",
    "from sklearn.model_selection import train_test_split\n",
    "from sklearn.metrics import mean_squared_error, mean_absolute_error\n",
    "from sklearn.linear_model import Ridge, Lasso\n",
    "from sklearn.model_selection import GridSearchCV\n",
    "from sklearn.linear_model import ElasticNet as ElasticNetImpl\n",
    "from sklearn import datasets, linear_model\n",
    "from sklearn.model_selection import train_test_split\n",
    "import statsmodels.api as sm"
   ]
  },
  {
   "cell_type": "code",
   "execution_count": 2,
   "metadata": {},
   "outputs": [
    {
     "name": "stdout",
     "output_type": "stream",
     "text": [
      "Esperamos trabalhar no diretório\n",
      "C:\\Users\\Vinicius\\OneDrive - Insper - Institudo de Ensino e Pesquisa\\Insper\\3 B\\DP Ciência dos Dados\\Untitled Folder\\Ci-ncia-dos-Dados-DP\\Projeto 3\n"
     ]
    }
   ],
   "source": [
    "print('Esperamos trabalhar no diretório')\n",
    "print(os.getcwd())"
   ]
  },
  {
   "cell_type": "markdown",
   "metadata": {},
   "source": [
    "### BASE DE DADOS"
   ]
  },
  {
   "cell_type": "code",
   "execution_count": 3,
   "metadata": {},
   "outputs": [
    {
     "data": {
      "text/html": [
       "<div>\n",
       "<style scoped>\n",
       "    .dataframe tbody tr th:only-of-type {\n",
       "        vertical-align: middle;\n",
       "    }\n",
       "\n",
       "    .dataframe tbody tr th {\n",
       "        vertical-align: top;\n",
       "    }\n",
       "\n",
       "    .dataframe thead th {\n",
       "        text-align: right;\n",
       "    }\n",
       "</style>\n",
       "<table border=\"1\" class=\"dataframe\">\n",
       "  <thead>\n",
       "    <tr style=\"text-align: right;\">\n",
       "      <th></th>\n",
       "      <th>mpg</th>\n",
       "      <th>cylinders</th>\n",
       "      <th>cubicinches</th>\n",
       "      <th>hp</th>\n",
       "      <th>weightlbs</th>\n",
       "      <th>time-to-60</th>\n",
       "      <th>year</th>\n",
       "      <th>brand</th>\n",
       "    </tr>\n",
       "  </thead>\n",
       "  <tbody>\n",
       "    <tr>\n",
       "      <th>0</th>\n",
       "      <td>14.0</td>\n",
       "      <td>8</td>\n",
       "      <td>350</td>\n",
       "      <td>165</td>\n",
       "      <td>4209</td>\n",
       "      <td>12</td>\n",
       "      <td>1972</td>\n",
       "      <td>US.</td>\n",
       "    </tr>\n",
       "    <tr>\n",
       "      <th>1</th>\n",
       "      <td>31.9</td>\n",
       "      <td>4</td>\n",
       "      <td>89</td>\n",
       "      <td>71</td>\n",
       "      <td>1925</td>\n",
       "      <td>14</td>\n",
       "      <td>1980</td>\n",
       "      <td>Europe.</td>\n",
       "    </tr>\n",
       "    <tr>\n",
       "      <th>2</th>\n",
       "      <td>17.0</td>\n",
       "      <td>8</td>\n",
       "      <td>302</td>\n",
       "      <td>140</td>\n",
       "      <td>3449</td>\n",
       "      <td>11</td>\n",
       "      <td>1971</td>\n",
       "      <td>US.</td>\n",
       "    </tr>\n",
       "    <tr>\n",
       "      <th>3</th>\n",
       "      <td>15.0</td>\n",
       "      <td>8</td>\n",
       "      <td>400</td>\n",
       "      <td>150</td>\n",
       "      <td>3761</td>\n",
       "      <td>10</td>\n",
       "      <td>1971</td>\n",
       "      <td>US.</td>\n",
       "    </tr>\n",
       "    <tr>\n",
       "      <th>4</th>\n",
       "      <td>30.5</td>\n",
       "      <td>4</td>\n",
       "      <td>98</td>\n",
       "      <td>63</td>\n",
       "      <td>2051</td>\n",
       "      <td>17</td>\n",
       "      <td>1978</td>\n",
       "      <td>US.</td>\n",
       "    </tr>\n",
       "  </tbody>\n",
       "</table>\n",
       "</div>"
      ],
      "text/plain": [
       "    mpg  cylinders  cubicinches   hp  weightlbs  time-to-60  year     brand\n",
       "0  14.0          8          350  165       4209          12  1972       US.\n",
       "1  31.9          4           89   71       1925          14  1980   Europe.\n",
       "2  17.0          8          302  140       3449          11  1971       US.\n",
       "3  15.0          8          400  150       3761          10  1971       US.\n",
       "4  30.5          4           98   63       2051          17  1978       US."
      ]
     },
     "execution_count": 3,
     "metadata": {},
     "output_type": "execute_result"
    }
   ],
   "source": [
    "dados = pd.read_excel('cars.xlsx')\n",
    "dados.head()"
   ]
  },
  {
   "cell_type": "code",
   "execution_count": 4,
   "metadata": {},
   "outputs": [],
   "source": [
    "df = dados[['cylinders','hp','time-to-60']].copy()"
   ]
  },
  {
   "cell_type": "code",
   "execution_count": 5,
   "metadata": {},
   "outputs": [],
   "source": [
    "df.loc[(dados.mpg>0)|(dados.mpg<1000), 'Consumo(Km/L)']=dados.mpg*0.425\n",
    "df.loc[(dados.weightlbs>0)|(dados.weightlbs<100000), 'Peso']=dados.weightlbs*0.453592\n",
    "df.loc[(dados.cubicinches>0)|(dados.cubicinches<1000), 'Cilindradas(L)']=dados.cubicinches/0.061024/1000"
   ]
  },
  {
   "cell_type": "code",
   "execution_count": 6,
   "metadata": {},
   "outputs": [
    {
     "data": {
      "text/html": [
       "<div>\n",
       "<style scoped>\n",
       "    .dataframe tbody tr th:only-of-type {\n",
       "        vertical-align: middle;\n",
       "    }\n",
       "\n",
       "    .dataframe tbody tr th {\n",
       "        vertical-align: top;\n",
       "    }\n",
       "\n",
       "    .dataframe thead th {\n",
       "        text-align: right;\n",
       "    }\n",
       "</style>\n",
       "<table border=\"1\" class=\"dataframe\">\n",
       "  <thead>\n",
       "    <tr style=\"text-align: right;\">\n",
       "      <th></th>\n",
       "      <th>Cilindros</th>\n",
       "      <th>Potência(hp)</th>\n",
       "      <th>0-100(s)</th>\n",
       "      <th>Consumo(Km/L)</th>\n",
       "      <th>Peso</th>\n",
       "      <th>Cilindradas(L)</th>\n",
       "    </tr>\n",
       "  </thead>\n",
       "  <tbody>\n",
       "    <tr>\n",
       "      <th>0</th>\n",
       "      <td>8</td>\n",
       "      <td>165</td>\n",
       "      <td>12</td>\n",
       "      <td>5.9500</td>\n",
       "      <td>1909.168728</td>\n",
       "      <td>5.735448</td>\n",
       "    </tr>\n",
       "    <tr>\n",
       "      <th>1</th>\n",
       "      <td>4</td>\n",
       "      <td>71</td>\n",
       "      <td>14</td>\n",
       "      <td>13.5575</td>\n",
       "      <td>873.164600</td>\n",
       "      <td>1.458443</td>\n",
       "    </tr>\n",
       "    <tr>\n",
       "      <th>2</th>\n",
       "      <td>8</td>\n",
       "      <td>140</td>\n",
       "      <td>11</td>\n",
       "      <td>7.2250</td>\n",
       "      <td>1564.438808</td>\n",
       "      <td>4.948873</td>\n",
       "    </tr>\n",
       "    <tr>\n",
       "      <th>3</th>\n",
       "      <td>8</td>\n",
       "      <td>150</td>\n",
       "      <td>10</td>\n",
       "      <td>6.3750</td>\n",
       "      <td>1705.959512</td>\n",
       "      <td>6.554798</td>\n",
       "    </tr>\n",
       "    <tr>\n",
       "      <th>4</th>\n",
       "      <td>4</td>\n",
       "      <td>63</td>\n",
       "      <td>17</td>\n",
       "      <td>12.9625</td>\n",
       "      <td>930.317192</td>\n",
       "      <td>1.605926</td>\n",
       "    </tr>\n",
       "  </tbody>\n",
       "</table>\n",
       "</div>"
      ],
      "text/plain": [
       "   Cilindros  Potência(hp)  0-100(s)  Consumo(Km/L)         Peso  \\\n",
       "0          8           165        12         5.9500  1909.168728   \n",
       "1          4            71        14        13.5575   873.164600   \n",
       "2          8           140        11         7.2250  1564.438808   \n",
       "3          8           150        10         6.3750  1705.959512   \n",
       "4          4            63        17        12.9625   930.317192   \n",
       "\n",
       "   Cilindradas(L)  \n",
       "0        5.735448  \n",
       "1        1.458443  \n",
       "2        4.948873  \n",
       "3        6.554798  \n",
       "4        1.605926  "
      ]
     },
     "execution_count": 6,
     "metadata": {},
     "output_type": "execute_result"
    }
   ],
   "source": [
    "df = df.rename(index=str, columns={\"cylinders\": \"Cilindros\", \"hp\": \"Potência(hp)\", \"time-to-60\":\"0-100(s)\" })\n",
    "df.head()"
   ]
  },
  {
   "cell_type": "code",
   "execution_count": 7,
   "metadata": {},
   "outputs": [],
   "source": [
    "df=shuffle(df)\n",
    "tamanhodf= len(df)\n",
    "\n",
    "dftreino = df.iloc[0:int(tamanhodf*0.75), :]\n",
    "dfteste = df.iloc[int(tamanhodf*0.75):, :]"
   ]
  },
  {
   "cell_type": "markdown",
   "metadata": {},
   "source": [
    "### ANÁLISE DESCRITIVA"
   ]
  },
  {
   "cell_type": "markdown",
   "metadata": {
    "collapsed": true
   },
   "source": [
    "As variáveis a serem utilizadas são: quantidade de cilíndros no motor do carro, a potência, tempo de aceleração de 0 a 100 km/h, o peso do veículo e a capacidade volumétrica do motor, além da variável a ser predizida que será o consumo em km/L."
   ]
  },
  {
   "cell_type": "markdown",
   "metadata": {
    "collapsed": true
   },
   "source": [
    "Com a utilização da variáveis descritas acima, pretende-se criar diferentes modelos de predição à fim de encontrar um que se encaixe melhor no propósito do trabalho, predizer o consumo baseado nas variáveis escolhidas. Esta variáveis serão as utilizadas, pois dentro do dataset original foram as que, o grupo julgou terem papel influente no consumo de combustível."
   ]
  },
  {
   "cell_type": "markdown",
   "metadata": {
    "collapsed": true
   },
   "source": [
    "A quantidade de cilíndros, bem como a capacidade volumétrica do motor (diretamente ligada ao tamanho dos cilíndros), influência na quantidade de combustível gasta em um ciclo do motor.\n",
    "\n",
    "A potência e o tempo de 0 a 100 km/h tem provável correlaçao com a velocidade de consumo de combustível, ou seja a rapidez de um ciclo do motor.\n",
    "\n",
    "E finalmente o peso, que influência diretamente no trabalho realizado, ou seja, a força necessária para movimentar o veículo. Quanto maior o peso, maior o trabalho, e portanto, maior o gasto de combustível."
   ]
  },
  {
   "cell_type": "markdown",
   "metadata": {},
   "source": [
    "___\n",
    "## MODELOS DE PREDIÇÃO\n"
   ]
  },
  {
   "cell_type": "markdown",
   "metadata": {
    "collapsed": true
   },
   "source": [
    "[O tópico C.PROCESSO E ESTATÍSTICAS DE VALIDAÇÃO estará dentro deste tópico. Organize-o aqui de forma clara!]\n",
    "\n",
    "[ORGANIZE AQUI TODOS OS MODELOS DE PREDIÇÃO NECESSÁRIOS NESTE PROJETO!]"
   ]
  },
  {
   "cell_type": "markdown",
   "metadata": {
    "collapsed": true
   },
   "source": [
    "o MODELO DE PREDIÇÃO PELA MÉDIA\n",
    "\n",
    "o MODELO DOS K VIZINHOS MAIS PRÓXIMOS (K-Nearest Neighbors Regression)\n",
    "\n",
    "o MODELO DE REGRESSÃO LINEAR (Multiple Linear Regression)\n",
    "\n",
    "o MODELO DE ÁRVORES DE REGRESSÃO (Decision Tree Regression)"
   ]
  },
  {
   "cell_type": "markdown",
   "metadata": {},
   "source": [
    "### MODELO DE PREDIÇÃO PELA MÉDIA"
   ]
  },
  {
   "cell_type": "code",
   "execution_count": 8,
   "metadata": {},
   "outputs": [],
   "source": [
    "média =np.mean(dftreino[\"Consumo(Km/L)\"])"
   ]
  },
  {
   "cell_type": "markdown",
   "metadata": {},
   "source": [
    "#### PROCESSO E ESTATÍSTICAS DE VALIDAÇÃO "
   ]
  },
  {
   "cell_type": "code",
   "execution_count": 9,
   "metadata": {},
   "outputs": [
    {
     "name": "stdout",
     "output_type": "stream",
     "text": [
      "RMS da base de treino: 9.995209572516545\n",
      "R² da base de treino: 0.224095432021308\n",
      "\n",
      "RMS da base de teste: 11.535753161451554\n",
      "R² da base de teste: 0.7759045679786929\n"
     ]
    }
   ],
   "source": [
    "listaRMSmédiaTreino=[]\n",
    "listaRMSmédiaTeste=[]\n",
    "listaRMSmédiaTotal=[]\n",
    "\n",
    "for i in dftreino[\"Consumo(Km/L)\"]:\n",
    "    a = (i-média)**2\n",
    "    listaRMSmédiaTreino.append(a)\n",
    "    \n",
    "for i in dfteste[\"Consumo(Km/L)\"]:\n",
    "    b = (i-média)**2\n",
    "    listaRMSmédiaTeste.append(b)\n",
    "    \n",
    "for i in df[\"Consumo(Km/L)\"]:\n",
    "    c = (i-média)**2\n",
    "    listaRMSmédiaTotal.append(c)\n",
    "    \n",
    "RMS_média_treino = (1/len(dfteste))*sum(listaRMSmédiaTeste)\n",
    "RMS_média_teste = (1/len(dftreino))*sum(listaRMSmédiaTreino)\n",
    "\n",
    "R_quadrado_treino=1-(sum(listaRMSmédiaTreino)/sum(listaRMSmédiaTotal))\n",
    "R_quadrado_teste=1-(sum(listaRMSmédiaTeste)/sum(listaRMSmédiaTotal))\n",
    "\n",
    "print(\"RMS (média) da base de treino: {}\".format(RMS_média_treino))\n",
    "print(\"R\\u00b2 (média) da base de treino: {}\\n\".format(R_quadrado_treino))\n",
    "print(\"RMS (média) da base de teste: {}\".format(RMS_média_teste))\n",
    "print(\"R\\u00b2 (média) da base de teste: {}\".format(R_quadrado_teste))"
   ]
  },
  {
   "cell_type": "markdown",
   "metadata": {},
   "source": [
    "O modelo preditivo por média apresentou resultados interessantes. Com o cálculo do RMS e do R² tanto para o dataframe de treino quanto para o de testes é possível fazer uma breve comparação entre os dois. Contrariando a expectativa, a predição pela média obteve melhor resultado ao ser utilizada com o dataframe de teste e não com o de treino como era esperado a príncipio, por se tratar do dataframe originário do treinamento. \n",
    "\n",
    "A partir de uma avaliação dos valores calculados e sabendo que quanto mais próximo o RMS está de 0 mais a previsão corresponde aos valores da base utilizada para verificar sua qualidade, é possível perceber que o comprovação feita com a base de treino possui um valor menor e portanto corresponde melhor à realidade. Além disso, o cálculo do R² mostra em porcentagem o quanto a previsão consegue explicar os valores comparados, ou seja, oteve-se uma equivalência de quase 77% na utilização da predição pela média com o dataframe de testes equanto o de treinamento teve apenas 22%, aproximadamente. Por isso, pode-se dizer que o estudo feito na base de teste é melhor explicado do q na de treino, apesar de corresponder menos aos valores esperados.\n",
    "\n",
    "O que se pode dizer a respeito desses dois valores é que as predições foram mais certeiras na base de treino, mas que essa maior porcentagem de acerto ocorreu ao acaso, uma vez que a base de teste apresenta valores mais concretos e com maior base.\n",
    "\n",
    "Como ainda não foram realizados outros tipos de predição não da para se afirmar com convicção se essa predição esta mais próxima de \"overfitting\" ou \"underfitting\", mas com o baixo resultado em relação ao dataframe de treino é muito provável que este seja um caso de prediçao com \"underfitting\" ao passo que a com o dataframe de teste esteja mais próxima do \"overfitting\", apesar de essa ser uma avaliação superficial, é a única que é possível ser feito por enquanto"
   ]
  },
  {
   "cell_type": "markdown",
   "metadata": {
    "collapsed": true
   },
   "source": [
    "## MODELO DE REGRESSÃO LINEAR (Multiple Linear Regression)"
   ]
  },
  {
   "cell_type": "markdown",
   "metadata": {
    "collapsed": true
   },
   "source": [
    "Nesta seção será elaborado um modelo estatístico capaz de nos mostrar a relação linear de múltiplas variáveis\n",
    "## Treinamento"
   ]
  },
  {
   "cell_type": "code",
   "execution_count": 10,
   "metadata": {},
   "outputs": [
    {
     "data": {
      "text/html": [
       "<div>\n",
       "<style scoped>\n",
       "    .dataframe tbody tr th:only-of-type {\n",
       "        vertical-align: middle;\n",
       "    }\n",
       "\n",
       "    .dataframe tbody tr th {\n",
       "        vertical-align: top;\n",
       "    }\n",
       "\n",
       "    .dataframe thead th {\n",
       "        text-align: right;\n",
       "    }\n",
       "</style>\n",
       "<table border=\"1\" class=\"dataframe\">\n",
       "  <thead>\n",
       "    <tr style=\"text-align: right;\">\n",
       "      <th></th>\n",
       "      <th>Cilindros</th>\n",
       "      <th>Potência(hp)</th>\n",
       "      <th>0-100(s)</th>\n",
       "      <th>Consumo(Km/L)</th>\n",
       "      <th>Peso</th>\n",
       "      <th>Cilindradas(L)</th>\n",
       "    </tr>\n",
       "  </thead>\n",
       "  <tbody>\n",
       "    <tr>\n",
       "      <th>244</th>\n",
       "      <td>4</td>\n",
       "      <td>84</td>\n",
       "      <td>16</td>\n",
       "      <td>12.325</td>\n",
       "      <td>1145.319800</td>\n",
       "      <td>2.212244</td>\n",
       "    </tr>\n",
       "    <tr>\n",
       "      <th>171</th>\n",
       "      <td>4</td>\n",
       "      <td>69</td>\n",
       "      <td>18</td>\n",
       "      <td>11.050</td>\n",
       "      <td>992.912888</td>\n",
       "      <td>1.573152</td>\n",
       "    </tr>\n",
       "    <tr>\n",
       "      <th>114</th>\n",
       "      <td>6</td>\n",
       "      <td>110</td>\n",
       "      <td>15</td>\n",
       "      <td>8.925</td>\n",
       "      <td>1378.466088</td>\n",
       "      <td>3.785396</td>\n",
       "    </tr>\n",
       "    <tr>\n",
       "      <th>230</th>\n",
       "      <td>4</td>\n",
       "      <td>52</td>\n",
       "      <td>25</td>\n",
       "      <td>18.700</td>\n",
       "      <td>966.150960</td>\n",
       "      <td>1.589539</td>\n",
       "    </tr>\n",
       "    <tr>\n",
       "      <th>117</th>\n",
       "      <td>4</td>\n",
       "      <td>83</td>\n",
       "      <td>15</td>\n",
       "      <td>11.475</td>\n",
       "      <td>998.809584</td>\n",
       "      <td>1.655087</td>\n",
       "    </tr>\n",
       "  </tbody>\n",
       "</table>\n",
       "</div>"
      ],
      "text/plain": [
       "     Cilindros  Potência(hp)  0-100(s)  Consumo(Km/L)         Peso  \\\n",
       "244          4            84        16         12.325  1145.319800   \n",
       "171          4            69        18         11.050   992.912888   \n",
       "114          6           110        15          8.925  1378.466088   \n",
       "230          4            52        25         18.700   966.150960   \n",
       "117          4            83        15         11.475   998.809584   \n",
       "\n",
       "     Cilindradas(L)  \n",
       "244        2.212244  \n",
       "171        1.573152  \n",
       "114        3.785396  \n",
       "230        1.589539  \n",
       "117        1.655087  "
      ]
     },
     "execution_count": 10,
     "metadata": {},
     "output_type": "execute_result"
    }
   ],
   "source": [
    "dftreino.head()"
   ]
  },
  {
   "cell_type": "code",
   "execution_count": 11,
   "metadata": {},
   "outputs": [],
   "source": [
    "X = dftreino[[\"Cilindros\", \"Potência(hp)\", \"0-100(s)\", \"Peso\", \"Cilindradas(L)\" ]]\n",
    "Y = dftreino[\"Consumo(Km/L)\"]\n"
   ]
  },
  {
   "cell_type": "code",
   "execution_count": 12,
   "metadata": {},
   "outputs": [
    {
     "data": {
      "text/html": [
       "<table class=\"simpletable\">\n",
       "<caption>OLS Regression Results</caption>\n",
       "<tr>\n",
       "  <th>Dep. Variable:</th>      <td>Consumo(Km/L)</td>  <th>  R-squared:         </th> <td>   0.951</td> \n",
       "</tr>\n",
       "<tr>\n",
       "  <th>Model:</th>                   <td>OLS</td>       <th>  Adj. R-squared:    </th> <td>   0.949</td> \n",
       "</tr>\n",
       "<tr>\n",
       "  <th>Method:</th>             <td>Least Squares</td>  <th>  F-statistic:       </th> <td>   722.5</td> \n",
       "</tr>\n",
       "<tr>\n",
       "  <th>Date:</th>             <td>Tue, 05 Jun 2018</td> <th>  Prob (F-statistic):</th> <td>3.31e-120</td>\n",
       "</tr>\n",
       "<tr>\n",
       "  <th>Time:</th>                 <td>11:19:02</td>     <th>  Log-Likelihood:    </th> <td> -432.11</td> \n",
       "</tr>\n",
       "<tr>\n",
       "  <th>No. Observations:</th>      <td>   192</td>      <th>  AIC:               </th> <td>   874.2</td> \n",
       "</tr>\n",
       "<tr>\n",
       "  <th>Df Residuals:</th>          <td>   187</td>      <th>  BIC:               </th> <td>   890.5</td> \n",
       "</tr>\n",
       "<tr>\n",
       "  <th>Df Model:</th>              <td>     5</td>      <th>                     </th>     <td> </td>    \n",
       "</tr>\n",
       "<tr>\n",
       "  <th>Covariance Type:</th>      <td>nonrobust</td>    <th>                     </th>     <td> </td>    \n",
       "</tr>\n",
       "</table>\n",
       "<table class=\"simpletable\">\n",
       "<tr>\n",
       "         <td></td>           <th>coef</th>     <th>std err</th>      <th>t</th>      <th>P>|t|</th>  <th>[0.025</th>    <th>0.975]</th>  \n",
       "</tr>\n",
       "<tr>\n",
       "  <th>Cilindros</th>      <td>    1.0544</td> <td>    0.292</td> <td>    3.611</td> <td> 0.000</td> <td>    0.478</td> <td>    1.631</td>\n",
       "</tr>\n",
       "<tr>\n",
       "  <th>Potência(hp)</th>   <td>    0.0521</td> <td>    0.010</td> <td>    5.359</td> <td> 0.000</td> <td>    0.033</td> <td>    0.071</td>\n",
       "</tr>\n",
       "<tr>\n",
       "  <th>0-100(s)</th>       <td>    0.7451</td> <td>    0.053</td> <td>   14.100</td> <td> 0.000</td> <td>    0.641</td> <td>    0.849</td>\n",
       "</tr>\n",
       "<tr>\n",
       "  <th>Peso</th>           <td>   -0.0062</td> <td>    0.001</td> <td>   -4.888</td> <td> 0.000</td> <td>   -0.009</td> <td>   -0.004</td>\n",
       "</tr>\n",
       "<tr>\n",
       "  <th>Cilindradas(L)</th> <td>   -1.4773</td> <td>    0.381</td> <td>   -3.881</td> <td> 0.000</td> <td>   -2.228</td> <td>   -0.726</td>\n",
       "</tr>\n",
       "</table>\n",
       "<table class=\"simpletable\">\n",
       "<tr>\n",
       "  <th>Omnibus:</th>       <td> 5.653</td> <th>  Durbin-Watson:     </th> <td>   2.073</td>\n",
       "</tr>\n",
       "<tr>\n",
       "  <th>Prob(Omnibus):</th> <td> 0.059</td> <th>  Jarque-Bera (JB):  </th> <td>   5.472</td>\n",
       "</tr>\n",
       "<tr>\n",
       "  <th>Skew:</th>          <td> 0.322</td> <th>  Prob(JB):          </th> <td>  0.0648</td>\n",
       "</tr>\n",
       "<tr>\n",
       "  <th>Kurtosis:</th>      <td> 3.520</td> <th>  Cond. No.          </th> <td>3.71e+03</td>\n",
       "</tr>\n",
       "</table>"
      ],
      "text/plain": [
       "<class 'statsmodels.iolib.summary.Summary'>\n",
       "\"\"\"\n",
       "                            OLS Regression Results                            \n",
       "==============================================================================\n",
       "Dep. Variable:          Consumo(Km/L)   R-squared:                       0.951\n",
       "Model:                            OLS   Adj. R-squared:                  0.949\n",
       "Method:                 Least Squares   F-statistic:                     722.5\n",
       "Date:                Tue, 05 Jun 2018   Prob (F-statistic):          3.31e-120\n",
       "Time:                        11:19:02   Log-Likelihood:                -432.11\n",
       "No. Observations:                 192   AIC:                             874.2\n",
       "Df Residuals:                     187   BIC:                             890.5\n",
       "Df Model:                           5                                         \n",
       "Covariance Type:            nonrobust                                         \n",
       "==================================================================================\n",
       "                     coef    std err          t      P>|t|      [0.025      0.975]\n",
       "----------------------------------------------------------------------------------\n",
       "Cilindros          1.0544      0.292      3.611      0.000       0.478       1.631\n",
       "Potência(hp)       0.0521      0.010      5.359      0.000       0.033       0.071\n",
       "0-100(s)           0.7451      0.053     14.100      0.000       0.641       0.849\n",
       "Peso              -0.0062      0.001     -4.888      0.000      -0.009      -0.004\n",
       "Cilindradas(L)    -1.4773      0.381     -3.881      0.000      -2.228      -0.726\n",
       "==============================================================================\n",
       "Omnibus:                        5.653   Durbin-Watson:                   2.073\n",
       "Prob(Omnibus):                  0.059   Jarque-Bera (JB):                5.472\n",
       "Skew:                           0.322   Prob(JB):                       0.0648\n",
       "Kurtosis:                       3.520   Cond. No.                     3.71e+03\n",
       "==============================================================================\n",
       "\n",
       "Warnings:\n",
       "[1] Standard Errors assume that the covariance matrix of the errors is correctly specified.\n",
       "[2] The condition number is large, 3.71e+03. This might indicate that there are\n",
       "strong multicollinearity or other numerical problems.\n",
       "\"\"\""
      ]
     },
     "execution_count": 12,
     "metadata": {},
     "output_type": "execute_result"
    }
   ],
   "source": [
    "model = sm.OLS(Y, X).fit()\n",
    "model.summary()"
   ]
  },
  {
   "cell_type": "code",
   "execution_count": 13,
   "metadata": {},
   "outputs": [
    {
     "data": {
      "text/plain": [
       "LinearRegression(copy_X=True, fit_intercept=True, n_jobs=1, normalize=False)"
      ]
     },
     "execution_count": 13,
     "metadata": {},
     "output_type": "execute_result"
    }
   ],
   "source": [
    "lm = linear_model.LinearRegression()\n",
    "model1 = lm.fit(X, Y)\n",
    "model1"
   ]
  },
  {
   "cell_type": "markdown",
   "metadata": {},
   "source": [
    " ##### BETA 1 \n",
    " Enquanto a quantidade de cilindros do motor do veículo aumenta em 1,  o consumo aumenta em 1,054 Km/L\n",
    " \n",
    " Enquanto a potência do motor do veículo aumenta em 1,  o consumo aumenta em 0,0521 Km/L\n",
    " \n",
    " Enquanto o tempo de aceleração do veículo de 0 a 100 km/h aumenta em 1 segundo,  o consumo aumenta em 0,7451 Km/L\n",
    " \n",
    " Enquanto o peso do veículo aumenta em 1 Kg,  o consumo diminui em 0,062 Km/L\n",
    " \n",
    " Enquanto o tamanho (cilindrada) do motor do veículo aumenta em 1 L,  o consumo diminui em 1,4773  Km/L\n",
    " \n",
    " ##### R²\n",
    " O quanto de variação que através de uma aproximação linear o nosso modelo explica, em porcentagem. No caso 95,1%\n",
    " \n",
    " ##### Confiabilidade\n",
    " 95%"
   ]
  },
  {
   "cell_type": "markdown",
   "metadata": {},
   "source": [
    "## Teste\n",
    "Com um modelo definido, iremos realizar as predições sobre os valores da variável dependente (consumo), de acordo com\n",
    "as variaveis independentes (demais) da base de dados \"Teste\". O resultado será comparado com os reais valores de consumo\n",
    "da base de dados Teste, para que possamos verificar a proporção de acertos de nosso modelo."
   ]
  },
  {
   "cell_type": "code",
   "execution_count": 28,
   "metadata": {},
   "outputs": [],
   "source": [
    "Xteste = dfteste[[\"Cilindros\", \"Potência(hp)\", \"0-100(s)\", \"Peso\", \"Cilindradas(L)\" ]]\n",
    "Yteste = dfteste[\"Consumo(Km/L)\"]\n",
    "\n",
    "Xtreino = dftreino[[\"Cilindros\", \"Potência(hp)\", \"0-100(s)\", \"Peso\", \"Cilindradas(L)\" ]]\n",
    "Ytreino = dftreino[\"Consumo(Km/L)\"]"
   ]
  },
  {
   "cell_type": "code",
   "execution_count": null,
   "metadata": {},
   "outputs": [],
   "source": []
  },
  {
   "cell_type": "code",
   "execution_count": 15,
   "metadata": {},
   "outputs": [],
   "source": [
    "lm = linear_model.LinearRegression()\n",
    "model2 = lm.fit(X, Y)"
   ]
  },
  {
   "cell_type": "code",
   "execution_count": 16,
   "metadata": {},
   "outputs": [
    {
     "data": {
      "text/plain": [
       "[<matplotlib.lines.Line2D at 0x194ee6cf048>]"
      ]
     },
     "execution_count": 16,
     "metadata": {},
     "output_type": "execute_result"
    },
    {
     "data": {
      "image/png": "[encoded data removed]",
      "text/plain": [
       "<matplotlib.figure.Figure at 0x194ee6bdf98>"
      ]
     },
     "metadata": {},
     "output_type": "display_data"
    }
   ],
   "source": [
    "x=np.arange(4,19,0.01)\n",
    "y=np.arange(4,19,0.01)\n",
    "predicao = model2.predict(Xteste)\n",
    "\n",
    "plt.scatter(Yteste, predicao)\n",
    "\n",
    "plt.xlabel(\"Valores Reais\")\n",
    "plt.ylabel(\"Predições\")\n",
    "plt.plot(x,y,'r')"
   ]
  },
  {
   "cell_type": "code",
   "execution_count": 30,
   "metadata": {},
   "outputs": [
    {
     "name": "stdout",
     "output_type": "stream",
     "text": [
      "Score: 0.7574166833552328\n"
     ]
    }
   ],
   "source": [
    "print(\"Score:\", model2.score(Xteste, Yteste))"
   ]
  },
  {
   "cell_type": "markdown",
   "metadata": {},
   "source": [
    " Em 75,74% das vezes nosso modelo baseado em regressão linear foi capaz de acertar os valores de Consumo do veículo na base de testes,\n",
    " tomando como base fatores como quantidade de cilindros do motor do veículo, o tamanho do motor, \n",
    " a aceleração do veículo, a potência do motor e o peso do veículo."
   ]
  },
  {
   "cell_type": "code",
   "execution_count": 29,
   "metadata": {},
   "outputs": [
    {
     "data": {
      "text/plain": [
       "[<matplotlib.lines.Line2D at 0x194efa33cf8>]"
      ]
     },
     "execution_count": 29,
     "metadata": {},
     "output_type": "execute_result"
    },
    {
     "data": {
      "image/png": "[encoded data removed]",
      "text/plain": [
       "<matplotlib.figure.Figure at 0x194efa33d30>"
      ]
     },
     "metadata": {},
     "output_type": "display_data"
    }
   ],
   "source": [
    "x=np.arange(4,19,0.01)\n",
    "y=np.arange(4,19,0.01)\n",
    "predicao_treino = model2.predict(Xtreino)\n",
    "\n",
    "plt.scatter(Ytreino, predicao_treino)\n",
    "\n",
    "plt.xlabel(\"Valores Reais\")\n",
    "plt.ylabel(\"Predições\")\n",
    "plt.plot(x,y,'r')"
   ]
  },
  {
   "cell_type": "code",
   "execution_count": 31,
   "metadata": {},
   "outputs": [
    {
     "name": "stdout",
     "output_type": "stream",
     "text": [
      "Score: 0.6830256863077957\n"
     ]
    }
   ],
   "source": [
    "print(\"Score:\", model2.score(Xtreino, Ytreino))"
   ]
  },
  {
   "cell_type": "markdown",
   "metadata": {},
   "source": [
    " Em 68.3% das vezes nosso modelo baseado em regressão linear foi capaz de acertar os valores de Consumo do veículo na base de treino,\n",
    " tomando como base fatores como quantidade de cilindros do motor do veículo, o tamanho do motor, \n",
    " a aceleração do veículo, a potência do motor e o peso do veículo."
   ]
  },
  {
   "cell_type": "markdown",
   "metadata": {},
   "source": [
    "#### PROCESSO E ESTATÍSTICAS DE VALIDAÇÃO "
   ]
  },
  {
   "cell_type": "code",
   "execution_count": 36,
   "metadata": {},
   "outputs": [
    {
     "name": "stdout",
     "output_type": "stream",
     "text": [
      "RMS da base de treino: 2.4039295023788747\n",
      "R² da base de treino: 0.17975264396072832\n",
      "\n",
      "RMS da base de teste: 3.6565374412737794\n",
      "R² da base de teste: 0.8202473560392718\n"
     ]
    }
   ],
   "source": [
    "listaRMSregressaoTreino=[]\n",
    "listaRMSregressaoTeste=[]\n",
    "listaRMSregressaoTotal=[]\n",
    "\n",
    "for i in range (len(Ytreino)):\n",
    "    a = (Ytreino[i]-predicao_treino[i])**2\n",
    "    listaRMSregressaoTreino.append(a)\n",
    "    \n",
    "for i in range (len(Yteste)):\n",
    "    b = (Yteste[i]-predicao[i])**2\n",
    "    listaRMSregressaoTeste.append(b)\n",
    "    \n",
    "for i in listaRMSregressaoTeste:\n",
    "    listaRMSregressaoTotal.append(i)\n",
    "for i in listaRMSregressaoTreino:    \n",
    "    listaRMSregressaoTotal.append(i)\n",
    "    \n",
    "RMS_regressao_treino = (1/len(Yteste))*sum(listaRMSregressaoTeste)\n",
    "RMS_regressao_teste = (1/len(Ytreino))*sum(listaRMSregressaoTreino)\n",
    "\n",
    "R_quadrado_treino_regressao=1-(sum(listaRMSregressaoTreino)/sum(listaRMSregressaoTotal))\n",
    "R_quadrado_teste_regressao=1-(sum(listaRMSregressaoTeste)/sum(listaRMSregressaoTotal))\n",
    "\n",
    "print(\"RMS (regressão) da base de treino: {}\".format(RMS_regressao_treino))\n",
    "print(\"R\\u00b2 (regressão) da base de treino: {}\\n\".format(R_quadrado_treino_regressao))\n",
    "print(\"RMS (regressão) da base de teste: {}\".format(RMS_regressao_teste))\n",
    "print(\"R\\u00b2 (regressão) da base de teste: {}\".format(R_quadrado_teste_regressao))"
   ]
  },
  {
   "cell_type": "markdown",
   "metadata": {},
   "source": [
    "O modelo preditivo por Regressao Linear apresentou bons resultados. Com o cálculo do RMS e do R² tanto para o dataframe de treino quanto para o de testes é possível fazer uma breve comparação entre os dois. Contrariando a expectativa mais uma vez, a predição pela média obteve melhor resultado ao ser utilizada com o dataframe de testes e não com o de treino. \n",
    "\n",
    "É possível perceber que a comprovação feita com a base de treino possui um valor menor de RMS e portanto corresponde melhor à realidade. Além disso, o cálculo do R² mostra uma equivalência de quase 82% na utilização da predição pela Regressão com o dataframe de testes equanto o de treinamento teve apenas 18%, aproximadamente.\n",
    "\n",
    "Posuindo agora dois tipos de predições é possível dizer que na predição pela média ambos os resultados, tanto da base de teste quanto da de treino, estavam mais próximos de um \"underfitting\", ao comparar com o modelo de regressão linear, que possui valores de RMS muito mais próximos de 0. Ainda assim não é possível constatar com certeza um caso de \"overfitting\"."
   ]
  },
  {
   "cell_type": "markdown",
   "metadata": {},
   "source": [
    "___\n",
    "## CONCLUSÃO"
   ]
  },
  {
   "cell_type": "markdown",
   "metadata": {
    "collapsed": true
   },
   "source": [
    "Após a realização ds dois modelos de predição, é possível verificar que o o modelo de regressão é muitdo mais adequado, obtendo-se melhores resultados, baseados nos métodos de validação por RMS e R². isso pode ser explicado uma vez que, por levar em conta cada variável individualmente, diferentemente da prediçao pela média que leva apenas uma, os resultados encontrados façam mais sentido, ja que são mais detalhadamente analisados.\n"
   ]
  },
  {
   "cell_type": "code",
   "execution_count": 41,
   "metadata": {},
   "outputs": [
    {
     "name": "stdout",
     "output_type": "stream",
     "text": [
      "RMS (regressão) da base de treino: 2.4039295023788747\n",
      "RMS (média) da base de treino: 2.4039295023788747\n",
      "\n",
      "R² (regressão) da base de treino: 0.17975264396072832\n",
      "R² (média) da base de treino: 0.224095432021308\n",
      "\n",
      "RMS (regressão) da base de teste: 3.6565374412737794\n",
      "RMS (média) da base de teste: 11.535753161451554\n",
      "\n",
      "R² (regressão) da base de teste: 0.8202473560392718\n",
      "R² (média) da base de teste: 0.7759045679786929\n"
     ]
    }
   ],
   "source": [
    "print(\"RMS (regressão) da base de treino: {}\".format(RMS_regressao_treino))\n",
    "print(\"RMS (média) da base de treino: {}\\n\".format(RMS_média_treino))\n",
    "\n",
    "print(\"R\\u00b2 (regressão) da base de treino: {}\".format(R_quadrado_treino_regressao))\n",
    "print(\"R\\u00b2 (média) da base de treino: {}\\n\".format(R_quadrado_treino))\n",
    "\n",
    "print(\"RMS (regressão) da base de teste: {}\".format(RMS_regressao_teste))\n",
    "print(\"RMS (média) da base de teste: {}\\n\".format(RMS_média_teste))\n",
    "\n",
    "print(\"R\\u00b2 (regressão) da base de teste: {}\".format(R_quadrado_teste_regressao))\n",
    "print(\"R\\u00b2 (média) da base de teste: {}\".format(R_quadrado_teste))"
   ]
  },
  {
   "cell_type": "markdown",
   "metadata": {
    "collapsed": true
   },
   "source": [
    "Para efeito de comparação foram colocados todos os valores acima organizados coerentemente. A partir da observação dos valores é possível constatar que o RMS permaneceu o mesmo na base de treino. Além disso, a predição feita em relação à base de teste com o método da média obteve um resultado melhor resultado, esse resultado contraria o que foi dito anteriormente de uma predição mais detalhada obter melhores resultados. Essa diferença pode ser explicada pela, aleatoridade dos dados do dataframe, e por ser um dataframe com poucos dados.\n",
    "\n",
    "Como esperado, enfim, as predições feitas com a base de teste foram mas coerentes. Tanto o RMS quanto o R² do método de regressão apresentam melhora significativa em relacão ao de média.\n",
    "\n",
    "Por causa desses resultado, pode se dizer que tanto a predição pela média quanto a pela regressão feitas com a base de treino e a predição pela média da de treino são casos de 'underfitting\", como havia sido adiantado, equanto a regressão na base de testes está consideravelmente adequada. No caso desse estudo, com os dois tipos de predição não houve um aparenete caso de \"overfitting\"."
   ]
  },
  {
   "cell_type": "markdown",
   "metadata": {},
   "source": [
    "___\n",
    "## REFERÊNCIAS BIBLIOGRÁFICAS"
   ]
  },
  {
   "cell_type": "markdown",
   "metadata": {
    "collapsed": true
   },
   "source": [
    "https://ensinandomaquinasblog.wordpress.com/2017/12/15/modelos-preditivos-de-notas-de-redacao-do-enem-2015/"
   ]
  },
  {
   "cell_type": "markdown",
   "metadata": {
    "collapsed": true
   },
   "source": [
    "https://machinelearningmastery.com/overfitting-and-underfitting-with-machine-learning-algorithms/"
   ]
  },
  {
   "cell_type": "markdown",
   "metadata": {
    "collapsed": true
   },
   "source": [
    "https://www.kaggle.com/"
   ]
  },
  {
   "cell_type": "code",
   "execution_count": null,
   "metadata": {},
   "outputs": [],
   "source": []
  }
 ],
 "metadata": {
  "anaconda-cloud": {},
  "kernelspec": {
   "display_name": "Python 3",
   "language": "python",
   "name": "python3"
  },
  "language_info": {
   "codemirror_mode": {
    "name": "ipython",
    "version": 3
   },
   "file_extension": ".py",
   "mimetype": "text/x-python",
   "name": "python",
   "nbconvert_exporter": "python",
   "pygments_lexer": "ipython3",
   "version": "3.6.4"
  }
 },
 "nbformat": 4,
 "nbformat_minor": 1
}
