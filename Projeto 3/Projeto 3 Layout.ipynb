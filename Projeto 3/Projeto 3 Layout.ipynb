{
 "cells": [
  {
   "cell_type": "markdown",
   "metadata": {},
   "source": [
    "___\n",
    "# Ciência dos Dados - PROJETO 3 - INSPER"
   ]
  },
  {
   "cell_type": "markdown",
   "metadata": {},
   "source": [
    "___\n",
    "## Nome 1 - João Laet Toledo César\n",
    "\n",
    "## Nome 2 - Pedro Isidoro\n",
    "\n",
    "## Nome 3 - Vinicius Hsu\n",
    "\n",
    "___"
   ]
  },
  {
   "cell_type": "markdown",
   "metadata": {},
   "source": [
    "___\n",
    "\n",
    "## INTRODUÇÃO"
   ]
  },
  {
   "cell_type": "markdown",
   "metadata": {},
   "source": [
    "[Detalhe aqui o objetivo deste projeto!!]"
   ]
  },
  {
   "cell_type": "markdown",
   "metadata": {},
   "source": [
    "___\n",
    "## MINERANDO DADOS e CARACTERÍSTICAS DO DATASET"
   ]
  },
  {
   "cell_type": "markdown",
   "metadata": {},
   "source": [
    "[Detalhe aqui as características da base de dados além da análise descritiva.]"
   ]
  },
  {
   "cell_type": "code",
   "execution_count": 58,
   "metadata": {
    "collapsed": true
   },
   "outputs": [],
   "source": [
    "%matplotlib inline\n",
    "import numpy as np\n",
    "import pandas as pd\n",
    "import matplotlib.pyplot as plt\n",
    "import os\n",
    "from numpy import arange\n",
    "from sklearn.utils import shuffle\n",
    "from sklearn.model_selection import train_test_split\n",
    "from sklearn.metrics import mean_squared_error, mean_absolute_error\n",
    "from sklearn.linear_model import Ridge, Lasso\n",
    "from sklearn.model_selection import GridSearchCV\n",
    "from sklearn.linear_model import ElasticNet as ElasticNetImpl\n",
    "from sklearn import datasets, linear_model\n",
    "from sklearn.model_selection import train_test_split\n",
    "import statsmodels.api as sm"
   ]
  },
  {
   "cell_type": "code",
   "execution_count": 19,
   "metadata": {
    "collapsed": false
   },
   "outputs": [
    {
     "name": "stdout",
     "output_type": "stream",
     "text": [
      "Esperamos trabalhar no diretório\n",
      "C:\\Users\\pedro\\Documents\\2 SEMESTRE\\Ciencia dos Dados\\DP\\Projeto 3\n"
     ]
    }
   ],
   "source": [
    "print('Esperamos trabalhar no diretório')\n",
    "print(os.getcwd())"
   ]
  },
  {
   "cell_type": "markdown",
   "metadata": {},
   "source": [
    "### BASE DE DADOS"
   ]
  },
  {
   "cell_type": "code",
   "execution_count": 21,
   "metadata": {
    "collapsed": false
   },
   "outputs": [
    {
     "data": {
      "text/html": [
       "<div>\n",
       "<table border=\"1\" class=\"dataframe\">\n",
       "  <thead>\n",
       "    <tr style=\"text-align: right;\">\n",
       "      <th></th>\n",
       "      <th>mpg</th>\n",
       "      <th>cylinders</th>\n",
       "      <th>cubicinches</th>\n",
       "      <th>hp</th>\n",
       "      <th>weightlbs</th>\n",
       "      <th>time-to-60</th>\n",
       "      <th>year</th>\n",
       "      <th>brand</th>\n",
       "    </tr>\n",
       "  </thead>\n",
       "  <tbody>\n",
       "    <tr>\n",
       "      <th>0</th>\n",
       "      <td>14.0</td>\n",
       "      <td>8</td>\n",
       "      <td>350</td>\n",
       "      <td>165</td>\n",
       "      <td>4209</td>\n",
       "      <td>12</td>\n",
       "      <td>1972</td>\n",
       "      <td>US.</td>\n",
       "    </tr>\n",
       "    <tr>\n",
       "      <th>1</th>\n",
       "      <td>31.9</td>\n",
       "      <td>4</td>\n",
       "      <td>89</td>\n",
       "      <td>71</td>\n",
       "      <td>1925</td>\n",
       "      <td>14</td>\n",
       "      <td>1980</td>\n",
       "      <td>Europe.</td>\n",
       "    </tr>\n",
       "    <tr>\n",
       "      <th>2</th>\n",
       "      <td>17.0</td>\n",
       "      <td>8</td>\n",
       "      <td>302</td>\n",
       "      <td>140</td>\n",
       "      <td>3449</td>\n",
       "      <td>11</td>\n",
       "      <td>1971</td>\n",
       "      <td>US.</td>\n",
       "    </tr>\n",
       "    <tr>\n",
       "      <th>3</th>\n",
       "      <td>15.0</td>\n",
       "      <td>8</td>\n",
       "      <td>400</td>\n",
       "      <td>150</td>\n",
       "      <td>3761</td>\n",
       "      <td>10</td>\n",
       "      <td>1971</td>\n",
       "      <td>US.</td>\n",
       "    </tr>\n",
       "    <tr>\n",
       "      <th>4</th>\n",
       "      <td>30.5</td>\n",
       "      <td>4</td>\n",
       "      <td>98</td>\n",
       "      <td>63</td>\n",
       "      <td>2051</td>\n",
       "      <td>17</td>\n",
       "      <td>1978</td>\n",
       "      <td>US.</td>\n",
       "    </tr>\n",
       "  </tbody>\n",
       "</table>\n",
       "</div>"
      ],
      "text/plain": [
       "    mpg  cylinders  cubicinches   hp  weightlbs  time-to-60  year     brand\n",
       "0  14.0          8          350  165       4209          12  1972       US.\n",
       "1  31.9          4           89   71       1925          14  1980   Europe.\n",
       "2  17.0          8          302  140       3449          11  1971       US.\n",
       "3  15.0          8          400  150       3761          10  1971       US.\n",
       "4  30.5          4           98   63       2051          17  1978       US."
      ]
     },
     "execution_count": 21,
     "metadata": {},
     "output_type": "execute_result"
    }
   ],
   "source": [
    "dados = pd.read_excel('carros.xlsx')\n",
    "dados.head()"
   ]
  },
  {
   "cell_type": "code",
   "execution_count": 22,
   "metadata": {
    "collapsed": true
   },
   "outputs": [],
   "source": [
    "df = dados[['cylinders','hp','time-to-60']].copy()"
   ]
  },
  {
   "cell_type": "code",
   "execution_count": 23,
   "metadata": {
    "collapsed": false
   },
   "outputs": [],
   "source": [
    "df.loc[(dados.mpg>0)|(dados.mpg<1000), 'Consumo(Km/L)']=dados.mpg*0.425\n",
    "df.loc[(dados.weightlbs>0)|(dados.weightlbs<100000), 'Peso']=dados.weightlbs*0.453592\n",
    "df.loc[(dados.cubicinches>0)|(dados.cubicinches<1000), 'Cilindradas(L)']=dados.cubicinches/0.061024/1000"
   ]
  },
  {
   "cell_type": "code",
   "execution_count": 24,
   "metadata": {
    "collapsed": false
   },
   "outputs": [
    {
     "data": {
      "text/html": [
       "<div>\n",
       "<table border=\"1\" class=\"dataframe\">\n",
       "  <thead>\n",
       "    <tr style=\"text-align: right;\">\n",
       "      <th></th>\n",
       "      <th>Cilindros</th>\n",
       "      <th>Potência(hp)</th>\n",
       "      <th>0-100(s)</th>\n",
       "      <th>Consumo(Km/L)</th>\n",
       "      <th>Peso</th>\n",
       "      <th>Cilindradas(L)</th>\n",
       "    </tr>\n",
       "  </thead>\n",
       "  <tbody>\n",
       "    <tr>\n",
       "      <th>0</th>\n",
       "      <td>8</td>\n",
       "      <td>165</td>\n",
       "      <td>12</td>\n",
       "      <td>5.9500</td>\n",
       "      <td>1909.168728</td>\n",
       "      <td>5.735448</td>\n",
       "    </tr>\n",
       "    <tr>\n",
       "      <th>1</th>\n",
       "      <td>4</td>\n",
       "      <td>71</td>\n",
       "      <td>14</td>\n",
       "      <td>13.5575</td>\n",
       "      <td>873.164600</td>\n",
       "      <td>1.458443</td>\n",
       "    </tr>\n",
       "    <tr>\n",
       "      <th>2</th>\n",
       "      <td>8</td>\n",
       "      <td>140</td>\n",
       "      <td>11</td>\n",
       "      <td>7.2250</td>\n",
       "      <td>1564.438808</td>\n",
       "      <td>4.948873</td>\n",
       "    </tr>\n",
       "    <tr>\n",
       "      <th>3</th>\n",
       "      <td>8</td>\n",
       "      <td>150</td>\n",
       "      <td>10</td>\n",
       "      <td>6.3750</td>\n",
       "      <td>1705.959512</td>\n",
       "      <td>6.554798</td>\n",
       "    </tr>\n",
       "    <tr>\n",
       "      <th>4</th>\n",
       "      <td>4</td>\n",
       "      <td>63</td>\n",
       "      <td>17</td>\n",
       "      <td>12.9625</td>\n",
       "      <td>930.317192</td>\n",
       "      <td>1.605926</td>\n",
       "    </tr>\n",
       "  </tbody>\n",
       "</table>\n",
       "</div>"
      ],
      "text/plain": [
       "   Cilindros  Potência(hp)  0-100(s)  Consumo(Km/L)         Peso  \\\n",
       "0          8           165        12         5.9500  1909.168728   \n",
       "1          4            71        14        13.5575   873.164600   \n",
       "2          8           140        11         7.2250  1564.438808   \n",
       "3          8           150        10         6.3750  1705.959512   \n",
       "4          4            63        17        12.9625   930.317192   \n",
       "\n",
       "   Cilindradas(L)  \n",
       "0        5.735448  \n",
       "1        1.458443  \n",
       "2        4.948873  \n",
       "3        6.554798  \n",
       "4        1.605926  "
      ]
     },
     "execution_count": 24,
     "metadata": {},
     "output_type": "execute_result"
    }
   ],
   "source": [
    "df = df.rename(index=str, columns={\"cylinders\": \"Cilindros\", \"hp\": \"Potência(hp)\", \"time-to-60\":\"0-100(s)\" })\n",
    "df.head()"
   ]
  },
  {
   "cell_type": "code",
   "execution_count": 25,
   "metadata": {
    "collapsed": true
   },
   "outputs": [],
   "source": [
    "df=shuffle(df)\n",
    "tamanhodf= len(df)\n",
    "\n",
    "dftreino = df.iloc[0:int(tamanhodf*0.75), :]\n",
    "dfteste = df.iloc[int(tamanhodf*0.75):, :]"
   ]
  },
  {
   "cell_type": "markdown",
   "metadata": {},
   "source": [
    "### ANÁLISE DESCRITIVA"
   ]
  },
  {
   "cell_type": "markdown",
   "metadata": {
    "collapsed": true
   },
   "source": [
    "As variáveis a serem utilizadas são: quantidade de cilíndros no motor do carro, a potência, tempo de aceleração de 0 a 100 km/h, o peso do veículo e a capacidade volumétrica do motor, além da variável a ser predizida que será o consumo em km/L."
   ]
  },
  {
   "cell_type": "markdown",
   "metadata": {
    "collapsed": true
   },
   "source": [
    "Com a utilização da variáveis descritas acima, pretende-se criar diferentes modelos de predição à fim de encontrar um que se encaixe melhor no propósito do trabalho, predizer o consumo baseado nas variáveis escolhidas. Esta variáveis serão as utilizadas, pois dentro do dataset original foram as que, o grupo julgou terem papel influente no consumo de combustível."
   ]
  },
  {
   "cell_type": "markdown",
   "metadata": {
    "collapsed": true
   },
   "source": [
    "A quantidade de cilíndros, bem como a capacidade volumétrica do motor (diretamente ligada ao tamanho dos cilíndros), influência na quantidade de combustível gasta em um ciclo do motor.\n",
    "\n",
    "A potência e o tempo de 0 a 100 km/h tem provável correlaçao com a velocidade de consumo de combustível, ou seja a rapidez de um ciclo do motor.\n",
    "\n",
    "E finalmente o peso, que influência diretamente no trabalho realizado, ou seja, a força necessária para movimentar o veículo. Quanto maior o peso, maior o trabalho, e portanto, maior o gasto de combustível."
   ]
  },
  {
   "cell_type": "markdown",
   "metadata": {},
   "source": [
    "___\n",
    "## MODELOS DE PREDIÇÃO\n"
   ]
  },
  {
   "cell_type": "markdown",
   "metadata": {
    "collapsed": true
   },
   "source": [
    "[O tópico C.PROCESSO E ESTATÍSTICAS DE VALIDAÇÃO estará dentro deste tópico. Organize-o aqui de forma clara!]\n",
    "\n",
    "[ORGANIZE AQUI TODOS OS MODELOS DE PREDIÇÃO NECESSÁRIOS NESTE PROJETO!]"
   ]
  },
  {
   "cell_type": "markdown",
   "metadata": {
    "collapsed": true
   },
   "source": [
    "o MODELO DE PREDIÇÃO PELA MÉDIA\n",
    "\n",
    "o MODELO DOS K VIZINHOS MAIS PRÓXIMOS (K-Nearest Neighbors Regression)\n",
    "\n",
    "o MODELO DE REGRESSÃO LINEAR (Multiple Linear Regression)\n",
    "\n",
    "o MODELO DE ÁRVORES DE REGRESSÃO (Decision Tree Regression)"
   ]
  },
  {
   "cell_type": "markdown",
   "metadata": {},
   "source": [
    "### MODELO DE PREDIÇÃO PELA MÉDIA"
   ]
  },
  {
   "cell_type": "code",
   "execution_count": 26,
   "metadata": {
    "collapsed": true
   },
   "outputs": [],
   "source": [
    "média =np.mean(dftreino[\"Consumo(Km/L)\"])"
   ]
  },
  {
   "cell_type": "markdown",
   "metadata": {},
   "source": [
    "#### PROCESSO E ESTATÍSTICAS DE VALIDAÇÃO "
   ]
  },
  {
   "cell_type": "code",
   "execution_count": 27,
   "metadata": {
    "collapsed": false
   },
   "outputs": [
    {
     "name": "stdout",
     "output_type": "stream",
     "text": [
      "RMS da base de treino: 9.860114919704863\n",
      "R² da base de treino: 0.2211710706358162\n",
      "\n",
      "RMS da base de teste: 11.57376011284722\n",
      "R² da base de teste: 0.7788289293641844\n"
     ]
    }
   ],
   "source": [
    "listaRMSmédiaTreino=[]\n",
    "listaRMSmédiaTeste=[]\n",
    "listaRMSmédiaTotal=[]\n",
    "\n",
    "for i in dftreino[\"Consumo(Km/L)\"]:\n",
    "    a = (i-média)**2\n",
    "    listaRMSmédiaTreino.append(a)\n",
    "    \n",
    "for i in dfteste[\"Consumo(Km/L)\"]:\n",
    "    b = (i-média)**2\n",
    "    listaRMSmédiaTeste.append(b)\n",
    "    \n",
    "for i in df[\"Consumo(Km/L)\"]:\n",
    "    c = (i-média)**2\n",
    "    listaRMSmédiaTotal.append(c)\n",
    "    \n",
    "RMS_média_treino = (1/len(dfteste))*sum(listaRMSmédiaTeste)\n",
    "RMS_média_teste = (1/len(dftreino))*sum(listaRMSmédiaTreino)\n",
    "\n",
    "R_quadrado_treino=1-(sum(listaRMSmédiaTreino)/sum(listaRMSmédiaTotal))\n",
    "R_quadrado_teste=1-(sum(listaRMSmédiaTeste)/sum(listaRMSmédiaTotal))\n",
    "\n",
    "print(\"RMS da base de treino: {}\".format(RMS_média_treino))\n",
    "print(\"R\\u00b2 da base de treino: {}\\n\".format(R_quadrado_treino))\n",
    "print(\"RMS da base de teste: {}\".format(RMS_média_teste))\n",
    "print(\"R\\u00b2 da base de teste: {}\".format(R_quadrado_teste))"
   ]
  },
  {
   "cell_type": "markdown",
   "metadata": {},
   "source": [
    "O modelo preditivo por média apresentou resultados interessantes. Com o cálculo do RMS e do R² tanto para o dataframe de treino quanto para o de testes é possível fazer uma breve comparação entre os dois. COntrariando a expectativa, a predição pela média obteve melhor resultado ao ser utilizada com o dataframe de treino e não com o de testes como era esperado a príncipio, por se tratar do dataframe originário do treinamento. \n",
    "\n",
    "A partir de uma avaliação dos valores calculados e sabendo que quanto mais próximo o RMS está de 0 mais a previsão corresponde aos valores da base utilizada para verificar sua qualidade, é possível perceber que o comprovação feito com a base de teste possui um valor menor e portanto corresponde melhor à realidade. Além disso, o cálculo do R² mostra em porcentagem o quanto a previsão consegue explicar os valores comparados, ou seja, oteve-se uma equivalência de quase 73% na utilização da predição pela média com o dataframe de testes equanto o de treinamento teve apenas 27%, aproximadamente.\n",
    "\n",
    "Como ainda não foram realizados outros tipos de predição não da para se afirmar com convicção se essa predição esta mais próxima de \"overfitting\" ou \"underfitting\", mas com o baixo resultado em relação ao dataframe de treino é muito provável que este seja um caso de prediçao com \"underfitting\" ao passo que a com o dataframe de teste esteja mais próxima do \"overfitting\", apesar de essa ser uma avaliação superficial, é a única que é possível ser feito por enquanto"
   ]
  },
  {
   "cell_type": "markdown",
   "metadata": {
    "collapsed": true
   },
   "source": [
    "## MODELO DE REGRESSÃO LINEAR (Multiple Linear Regression)"
   ]
  },
  {
   "cell_type": "markdown",
   "metadata": {
    "collapsed": true
   },
   "source": [
    "Nesta seção será elaborado um modelo estatístico capaz de nos mostrar a relação linear de múltiplas variáveis\n",
    "## Treinamento"
   ]
  },
  {
   "cell_type": "code",
   "execution_count": 28,
   "metadata": {
    "collapsed": false
   },
   "outputs": [
    {
     "data": {
      "text/html": [
       "<div>\n",
       "<table border=\"1\" class=\"dataframe\">\n",
       "  <thead>\n",
       "    <tr style=\"text-align: right;\">\n",
       "      <th></th>\n",
       "      <th>Cilindros</th>\n",
       "      <th>Potência(hp)</th>\n",
       "      <th>0-100(s)</th>\n",
       "      <th>Consumo(Km/L)</th>\n",
       "      <th>Peso</th>\n",
       "      <th>Cilindradas(L)</th>\n",
       "    </tr>\n",
       "  </thead>\n",
       "  <tbody>\n",
       "    <tr>\n",
       "      <th>139</th>\n",
       "      <td>4</td>\n",
       "      <td>96</td>\n",
       "      <td>14</td>\n",
       "      <td>13.600</td>\n",
       "      <td>1208.822680</td>\n",
       "      <td>2.359727</td>\n",
       "    </tr>\n",
       "    <tr>\n",
       "      <th>201</th>\n",
       "      <td>4</td>\n",
       "      <td>65</td>\n",
       "      <td>19</td>\n",
       "      <td>17.340</td>\n",
       "      <td>957.079120</td>\n",
       "      <td>1.392895</td>\n",
       "    </tr>\n",
       "    <tr>\n",
       "      <th>161</th>\n",
       "      <td>4</td>\n",
       "      <td>54</td>\n",
       "      <td>24</td>\n",
       "      <td>9.775</td>\n",
       "      <td>1022.396368</td>\n",
       "      <td>1.589539</td>\n",
       "    </tr>\n",
       "    <tr>\n",
       "      <th>50</th>\n",
       "      <td>4</td>\n",
       "      <td>75</td>\n",
       "      <td>16</td>\n",
       "      <td>10.200</td>\n",
       "      <td>978.851536</td>\n",
       "      <td>1.900891</td>\n",
       "    </tr>\n",
       "    <tr>\n",
       "      <th>5</th>\n",
       "      <td>8</td>\n",
       "      <td>125</td>\n",
       "      <td>17</td>\n",
       "      <td>9.775</td>\n",
       "      <td>1769.008800</td>\n",
       "      <td>5.735448</td>\n",
       "    </tr>\n",
       "  </tbody>\n",
       "</table>\n",
       "</div>"
      ],
      "text/plain": [
       "     Cilindros  Potência(hp)  0-100(s)  Consumo(Km/L)         Peso  \\\n",
       "139          4            96        14         13.600  1208.822680   \n",
       "201          4            65        19         17.340   957.079120   \n",
       "161          4            54        24          9.775  1022.396368   \n",
       "50           4            75        16         10.200   978.851536   \n",
       "5            8           125        17          9.775  1769.008800   \n",
       "\n",
       "     Cilindradas(L)  \n",
       "139        2.359727  \n",
       "201        1.392895  \n",
       "161        1.589539  \n",
       "50         1.900891  \n",
       "5          5.735448  "
      ]
     },
     "execution_count": 28,
     "metadata": {},
     "output_type": "execute_result"
    }
   ],
   "source": [
    "dftreino.head()"
   ]
  },
  {
   "cell_type": "code",
   "execution_count": 42,
   "metadata": {
    "collapsed": false
   },
   "outputs": [],
   "source": [
    "X = dftreino[[\"Cilindros\", \"Potência(hp)\", \"0-100(s)\", \"Peso\", \"Cilindradas(L)\" ]]\n",
    "Y = dftreino[\"Consumo(Km/L)\"]\n"
   ]
  },
  {
   "cell_type": "code",
   "execution_count": 73,
   "metadata": {
    "collapsed": false
   },
   "outputs": [
    {
     "data": {
      "text/html": [
       "<table class=\"simpletable\">\n",
       "<caption>OLS Regression Results</caption>\n",
       "<tr>\n",
       "  <th>Dep. Variable:</th>      <td>Consumo(Km/L)</td>  <th>  R-squared:         </th> <td>   0.949</td> \n",
       "</tr>\n",
       "<tr>\n",
       "  <th>Model:</th>                   <td>OLS</td>       <th>  Adj. R-squared:    </th> <td>   0.948</td> \n",
       "</tr>\n",
       "<tr>\n",
       "  <th>Method:</th>             <td>Least Squares</td>  <th>  F-statistic:       </th> <td>   699.7</td> \n",
       "</tr>\n",
       "<tr>\n",
       "  <th>Date:</th>             <td>Tue, 05 Jun 2018</td> <th>  Prob (F-statistic):</th> <td>5.69e-119</td>\n",
       "</tr>\n",
       "<tr>\n",
       "  <th>Time:</th>                 <td>01:25:56</td>     <th>  Log-Likelihood:    </th> <td> -436.19</td> \n",
       "</tr>\n",
       "<tr>\n",
       "  <th>No. Observations:</th>      <td>   192</td>      <th>  AIC:               </th> <td>   882.4</td> \n",
       "</tr>\n",
       "<tr>\n",
       "  <th>Df Residuals:</th>          <td>   187</td>      <th>  BIC:               </th> <td>   898.7</td> \n",
       "</tr>\n",
       "<tr>\n",
       "  <th>Df Model:</th>              <td>     5</td>      <th>                     </th>     <td> </td>    \n",
       "</tr>\n",
       "<tr>\n",
       "  <th>Covariance Type:</th>      <td>nonrobust</td>    <th>                     </th>     <td> </td>    \n",
       "</tr>\n",
       "</table>\n",
       "<table class=\"simpletable\">\n",
       "<tr>\n",
       "         <td></td>           <th>coef</th>     <th>std err</th>      <th>t</th>      <th>P>|t|</th> <th>[95.0% Conf. Int.]</th> \n",
       "</tr>\n",
       "<tr>\n",
       "  <th>Cilindros</th>      <td>    1.0650</td> <td>    0.293</td> <td>    3.640</td> <td> 0.000</td> <td>    0.488     1.642</td>\n",
       "</tr>\n",
       "<tr>\n",
       "  <th>Potência(hp)</th>   <td>    0.0579</td> <td>    0.010</td> <td>    5.878</td> <td> 0.000</td> <td>    0.038     0.077</td>\n",
       "</tr>\n",
       "<tr>\n",
       "  <th>0-100(s)</th>       <td>    0.7527</td> <td>    0.053</td> <td>   14.247</td> <td> 0.000</td> <td>    0.648     0.857</td>\n",
       "</tr>\n",
       "<tr>\n",
       "  <th>Peso</th>           <td>   -0.0069</td> <td>    0.001</td> <td>   -5.240</td> <td> 0.000</td> <td>   -0.010    -0.004</td>\n",
       "</tr>\n",
       "<tr>\n",
       "  <th>Cilindradas(L)</th> <td>   -1.4209</td> <td>    0.373</td> <td>   -3.807</td> <td> 0.000</td> <td>   -2.157    -0.685</td>\n",
       "</tr>\n",
       "</table>\n",
       "<table class=\"simpletable\">\n",
       "<tr>\n",
       "  <th>Omnibus:</th>       <td> 6.030</td> <th>  Durbin-Watson:     </th> <td>   1.850</td>\n",
       "</tr>\n",
       "<tr>\n",
       "  <th>Prob(Omnibus):</th> <td> 0.049</td> <th>  Jarque-Bera (JB):  </th> <td>   5.829</td>\n",
       "</tr>\n",
       "<tr>\n",
       "  <th>Skew:</th>          <td> 0.344</td> <th>  Prob(JB):          </th> <td>  0.0542</td>\n",
       "</tr>\n",
       "<tr>\n",
       "  <th>Kurtosis:</th>      <td> 3.506</td> <th>  Cond. No.          </th> <td>3.58e+03</td>\n",
       "</tr>\n",
       "</table>"
      ],
      "text/plain": [
       "<class 'statsmodels.iolib.summary.Summary'>\n",
       "\"\"\"\n",
       "                            OLS Regression Results                            \n",
       "==============================================================================\n",
       "Dep. Variable:          Consumo(Km/L)   R-squared:                       0.949\n",
       "Model:                            OLS   Adj. R-squared:                  0.948\n",
       "Method:                 Least Squares   F-statistic:                     699.7\n",
       "Date:                Tue, 05 Jun 2018   Prob (F-statistic):          5.69e-119\n",
       "Time:                        01:25:56   Log-Likelihood:                -436.19\n",
       "No. Observations:                 192   AIC:                             882.4\n",
       "Df Residuals:                     187   BIC:                             898.7\n",
       "Df Model:                           5                                         \n",
       "Covariance Type:            nonrobust                                         \n",
       "==================================================================================\n",
       "                     coef    std err          t      P>|t|      [95.0% Conf. Int.]\n",
       "----------------------------------------------------------------------------------\n",
       "Cilindros          1.0650      0.293      3.640      0.000         0.488     1.642\n",
       "Potência(hp)       0.0579      0.010      5.878      0.000         0.038     0.077\n",
       "0-100(s)           0.7527      0.053     14.247      0.000         0.648     0.857\n",
       "Peso              -0.0069      0.001     -5.240      0.000        -0.010    -0.004\n",
       "Cilindradas(L)    -1.4209      0.373     -3.807      0.000        -2.157    -0.685\n",
       "==============================================================================\n",
       "Omnibus:                        6.030   Durbin-Watson:                   1.850\n",
       "Prob(Omnibus):                  0.049   Jarque-Bera (JB):                5.829\n",
       "Skew:                           0.344   Prob(JB):                       0.0542\n",
       "Kurtosis:                       3.506   Cond. No.                     3.58e+03\n",
       "==============================================================================\n",
       "\n",
       "Warnings:\n",
       "[1] Standard Errors assume that the covariance matrix of the errors is correctly specified.\n",
       "[2] The condition number is large, 3.58e+03. This might indicate that there are\n",
       "strong multicollinearity or other numerical problems.\n",
       "\"\"\""
      ]
     },
     "execution_count": 73,
     "metadata": {},
     "output_type": "execute_result"
    }
   ],
   "source": [
    "model = sm.OLS(Y, X).fit()\n",
    "model.summary()"
   ]
  },
  {
   "cell_type": "code",
   "execution_count": 62,
   "metadata": {
    "collapsed": false
   },
   "outputs": [
    {
     "data": {
      "text/plain": [
       "LinearRegression(copy_X=True, fit_intercept=True, n_jobs=1, normalize=False)"
      ]
     },
     "execution_count": 62,
     "metadata": {},
     "output_type": "execute_result"
    }
   ],
   "source": [
    "lm = linear_model.LinearRegression()\n",
    "model1 = lm.fit(X, Y)\n",
    "model1"
   ]
  },
  {
   "cell_type": "markdown",
   "metadata": {},
   "source": [
    " ##### BETA 1 \n",
    " Enquanto a quantidade de cilindros do motor do veículo aumenta em 1,  o consumo aumenta em 1,065 Km/L\n",
    " \n",
    " Enquanto a potência do motor do veículo aumenta em 1,  o consumo aumenta em 0,0579 Km/L\n",
    " \n",
    " Enquanto o tempo de aceleração do veículo de 0 a 100 km/h aumenta em 1 segundo,  o consumo aumenta em 1,065 Km/L\n",
    " \n",
    " Enquanto o peso do veículo aumenta em 1 Kg,  o consumo diminui em 0,069 Km/L\n",
    " \n",
    " Enquanto o tamanho (cilindrada) do motor do veículo aumenta em 1 L,  o consumo diminui em 1,4209  Km/L\n",
    " \n",
    " ##### R²\n",
    " O quanto de variação que através de uma aproximação linear o nosso modelo explica, em porcentagem. No caso 94,9%\n",
    " \n",
    " ##### Confiabilidade\n",
    " 95%"
   ]
  },
  {
   "cell_type": "markdown",
   "metadata": {},
   "source": [
    "## Teste\n",
    "Com um modelo definido, iremos realizar as predições sobre os valores da variável dependente (consumo), de acordo com\n",
    "as variaveis independentes (demais) da base de dados \"Teste\". O resultado será comparado com os reais valores de consumo\n",
    "da base de dados Teste, para que possamos verificar a proporção de acertos de nosso modelo."
   ]
  },
  {
   "cell_type": "code",
   "execution_count": 65,
   "metadata": {
    "collapsed": true
   },
   "outputs": [],
   "source": [
    "Xteste = dfteste[[\"Cilindros\", \"Potência(hp)\", \"0-100(s)\", \"Peso\", \"Cilindradas(L)\" ]]\n",
    "Yteste = dfteste[\"Consumo(Km/L)\"]"
   ]
  },
  {
   "cell_type": "code",
   "execution_count": 78,
   "metadata": {
    "collapsed": true
   },
   "outputs": [],
   "source": [
    "lm = linear_model.LinearRegression()\n",
    "model2 = lm.fit(X, Y)"
   ]
  },
  {
   "cell_type": "code",
   "execution_count": 84,
   "metadata": {
    "collapsed": false
   },
   "outputs": [
    {
     "data": {
      "text/plain": [
       "<matplotlib.text.Text at 0x2e323a9b438>"
      ]
     },
     "execution_count": 84,
     "metadata": {},
     "output_type": "execute_result"
    },
    {
     "data": {
      "image/png": "[encoded data removed]",
      "text/plain": [
       "<matplotlib.figure.Figure at 0x2e323b2d278>"
      ]
     },
     "metadata": {},
     "output_type": "display_data"
    }
   ],
   "source": [
    "predicao = model2.predict(Xteste)\n",
    "\n",
    "plt.scatter(Yteste, predicao)\n",
    "\n",
    "plt.xlabel(\"Valores Reais\")\n",
    "plt.ylabel(\"Predições\")\n"
   ]
  },
  {
   "cell_type": "code",
   "execution_count": 80,
   "metadata": {
    "collapsed": false
   },
   "outputs": [
    {
     "name": "stdout",
     "output_type": "stream",
     "text": [
      "Score: 0.731402422582\n"
     ]
    }
   ],
   "source": [
    "print(\"Score:\", model2.score(Xteste, Yteste))"
   ]
  },
  {
   "cell_type": "markdown",
   "metadata": {},
   "source": [
    " Em 73,14% das vezes nosso modelo baseado em regressão linear foi capaz de acertar os valores de Consumo do veículo,\n",
    " tomando como base fatores como quantidade de cilindros do motor do veículo, o tamanho do motor, \n",
    " a aceleração do veículo, a potência do motor e o peso do veículo."
   ]
  },
  {
   "cell_type": "markdown",
   "metadata": {},
   "source": [
    "#### PROCESSO E ESTATÍSTICAS DE VALIDAÇÃO "
   ]
  },
  {
   "cell_type": "code",
   "execution_count": null,
   "metadata": {
    "collapsed": true
   },
   "outputs": [],
   "source": []
  },
  {
   "cell_type": "markdown",
   "metadata": {},
   "source": [
    "___\n",
    "## CONCLUSÃO"
   ]
  },
  {
   "cell_type": "code",
   "execution_count": null,
   "metadata": {
    "collapsed": true
   },
   "outputs": [],
   "source": []
  },
  {
   "cell_type": "code",
   "execution_count": null,
   "metadata": {
    "collapsed": true
   },
   "outputs": [],
   "source": []
  },
  {
   "cell_type": "code",
   "execution_count": null,
   "metadata": {
    "collapsed": true
   },
   "outputs": [],
   "source": []
  },
  {
   "cell_type": "code",
   "execution_count": null,
   "metadata": {
    "collapsed": true
   },
   "outputs": [],
   "source": []
  },
  {
   "cell_type": "markdown",
   "metadata": {},
   "source": [
    "___\n",
    "## REFERÊNCIAS BIBLIOGRÁFICAS"
   ]
  },
  {
   "cell_type": "code",
   "execution_count": null,
   "metadata": {
    "collapsed": true
   },
   "outputs": [],
   "source": []
  },
  {
   "cell_type": "code",
   "execution_count": null,
   "metadata": {
    "collapsed": true
   },
   "outputs": [],
   "source": []
  },
  {
   "cell_type": "code",
   "execution_count": null,
   "metadata": {
    "collapsed": true
   },
   "outputs": [],
   "source": []
  },
  {
   "cell_type": "code",
   "execution_count": null,
   "metadata": {
    "collapsed": true
   },
   "outputs": [],
   "source": []
  }
 ],
 "metadata": {
  "anaconda-cloud": {},
  "kernelspec": {
   "display_name": "Python 3",
   "language": "python",
   "name": "python3"
  },
  "language_info": {
   "codemirror_mode": {
    "name": "ipython",
    "version": 3
   },
   "file_extension": ".py",
   "mimetype": "text/x-python",
   "name": "python",
   "nbconvert_exporter": "python",
   "pygments_lexer": "ipython3",
   "version": "3.6.0"
  }
 },
 "nbformat": 4,
 "nbformat_minor": 1
}
