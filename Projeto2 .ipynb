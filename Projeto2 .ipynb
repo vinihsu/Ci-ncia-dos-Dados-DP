{
 "cells": [
  {
   "cell_type": "markdown",
   "metadata": {},
   "source": [
    "___\n",
    "# Ciência dos Dados - PROJETO 2"
   ]
  },
  {
   "cell_type": "markdown",
   "metadata": {},
   "source": [
    "___\n",
    "## Nome 1: João Laet Toledo César\n",
    "\n",
    "## Nome 2: Vinicius de Paiva Hsu\n",
    "\n",
    "___"
   ]
  },
  {
   "cell_type": "markdown",
   "metadata": {},
   "source": [
    "___\n",
    "\n",
    "## 1. Problema\n",
    "\n",
    "O Classificador Naive-Bayes, o qual se baseia no uso do teorema de Bayes, é largamente utilizado em filtros anti-spam de e-mails. O classificador permite calcular qual a probabilidade de uma mensagem ser SPAM considerando as palavras em seu conteúdo e, de forma complementar, permite calcular a probabilidade de uma mensagem ser HAM dada as palavras descritas na mensagem.\n",
    "\n",
    "Para realizar o MVP (minimum viable product) do projeto, você precisa programar uma versão do classificador que \"aprende\" o que é uma mensagem SPAM considerando uma base de treinamento e comparar o desempenho dos resultados com uma base de testes. \n"
   ]
  },
  {
   "cell_type": "markdown",
   "metadata": {},
   "source": [
    "___\n",
    "## 2. Separação da base de dados em Treinamento e Teste\n",
    "\n",
    "A base de dados deve ser separada em duas partes, aleatoriamente, considerando: \n",
    "    \n",
    "    75% dos dados para a parte Treinamento; e\n",
    "    25% dos dados para a parte Teste."
   ]
  },
  {
   "cell_type": "code",
   "execution_count": 1,
   "metadata": {
    "collapsed": true
   },
   "outputs": [],
   "source": [
    "import pandas as pd\n",
    "import os\n",
    "from sklearn.utils import shuffle"
   ]
  },
  {
   "cell_type": "code",
   "execution_count": 2,
   "metadata": {},
   "outputs": [
    {
     "name": "stdout",
     "output_type": "stream",
     "text": [
      "Esperamos trabalhar no diretório\n",
      "C:\\Users\\Camila\\OneDrive - Insper - Institudo de Ensino e Pesquisa\\Insper\\3 B\\DP Ciência dos Dados\\Projeto 2\n"
     ]
    }
   ],
   "source": [
    "print('Esperamos trabalhar no diretório')\n",
    "print(os.getcwd())"
   ]
  },
  {
   "cell_type": "code",
   "execution_count": 3,
   "metadata": {
    "collapsed": true
   },
   "outputs": [],
   "source": [
    "database = pd.read_excel('spamhamV2.xlsx')"
   ]
  },
  {
   "cell_type": "code",
   "execution_count": 4,
   "metadata": {
    "collapsed": true
   },
   "outputs": [],
   "source": [
    "dfal = shuffle(database)\n",
    "dfal.head()\n",
    "a = len(dfal)"
   ]
  },
  {
   "cell_type": "code",
   "execution_count": 5,
   "metadata": {},
   "outputs": [
    {
     "name": "stdout",
     "output_type": "stream",
     "text": [
      "75% do dataframe = 4180 frases\n",
      "25% do dataframe = 1393 frases\n"
     ]
    }
   ],
   "source": [
    "print(\"75% do dataframe = \" + str(int(a*0.75)+1) + \" frases\")\n",
    "print(\"25% do dataframe = \" + str(int(a*0.25)) + \" frases\")"
   ]
  },
  {
   "cell_type": "code",
   "execution_count": 6,
   "metadata": {
    "collapsed": true
   },
   "outputs": [],
   "source": [
    "teste = dfal.iloc[0:4181, :]\n",
    "final = dfal.iloc[4181:, :]"
   ]
  },
  {
   "cell_type": "markdown",
   "metadata": {},
   "source": [
    "O Dataframe inicial foi dividido em duas partes, 75% do dataframe original foi alocado aleatóriamente para um dataframe utilizado para o treinamento do classificador, os outros 25%,também aleatórios foram alocados em outro dataframe para realizar o teste de nosso classificador"
   ]
  },
  {
   "cell_type": "markdown",
   "metadata": {},
   "source": [
    "___\n",
    "## 3. Classificador Naive-Bayes"
   ]
  },
  {
   "cell_type": "code",
   "execution_count": null,
   "metadata": {
    "collapsed": true
   },
   "outputs": [],
   "source": []
  },
  {
   "cell_type": "code",
   "execution_count": 74,
   "metadata": {},
   "outputs": [],
   "source": [
    "teste_limpo_spam=[]\n",
    "teste_limpo_ham=[]\n",
    "\n",
    "for i in range(0,teste.Email.size-1):\n",
    "    if teste.iloc[i,1]=='spam':\n",
    "        teste_limpo_spam.append(str(teste.iloc[i,0]).split())\n",
    "    if teste.iloc[i,1]=='ham':\n",
    "        teste_limpo_ham.append(str(teste.iloc[i,0]).split())\n",
    "    \n",
    "\n",
    "palavras_teste_spam=[]\n",
    "palavras_teste_ham=[]\n",
    "\n",
    "for i in teste_limpo_spam:\n",
    "    for c in i:\n",
    "        if c not in palavras_teste_spam:\n",
    "            palavras_teste_spam.append(c)\n",
    "            \n",
    "for i in teste_limpo_ham:\n",
    "    for c in i:\n",
    "        if c not in palavras_teste_ham:\n",
    "            palavras_teste_ham.append(c)\n"
   ]
  },
  {
   "cell_type": "markdown",
   "metadata": {},
   "source": [
    "Neste momento, foram criadas listas, com as frases do dataframe de treinamento e posteriormente, uma lista que contém todas as palavras contidas nessas frases sem repetição."
   ]
  },
  {
   "cell_type": "code",
   "execution_count": 8,
   "metadata": {},
   "outputs": [
    {
     "name": "stdout",
     "output_type": "stream",
     "text": [
      "Probabilidade do e-mail ser ham: 86.5311004784689%\n",
      "Probabilidade do e-mail ser spam: 13.4688995215311%\n"
     ]
    }
   ],
   "source": [
    "probabilidade_ham=len(teste_limpo_ham)/(len(teste_limpo_ham)+len(teste_limpo_spam))*100\n",
    "print(\"Probabilidade do e-mail ser ham: {}%\".format (probabilidade_ham))\n",
    "\n",
    "probabilidade_spam=len(teste_limpo_spam)/(len(teste_limpo_ham)+len(teste_limpo_spam))*100\n",
    "print(\"Probabilidade do e-mail ser spam: {}%\".format (probabilidade_spam))\n",
    "\n"
   ]
  },
  {
   "cell_type": "markdown",
   "metadata": {},
   "source": [
    "Com as listas formadas, foram calculadas as probabilidades de cada e-mail ser ham ou spam, com base na quantidadde de cada um dentro do total"
   ]
  },
  {
   "cell_type": "code",
   "execution_count": 9,
   "metadata": {
    "collapsed": true
   },
   "outputs": [],
   "source": [
    "palavrasspam=[]\n",
    "for i in teste_limpo_spam:\n",
    "    for a in i:\n",
    "        palavrasspam.append(a)\n",
    "\n",
    "\n",
    "palavrasham=[]\n",
    "\n",
    "for i in teste_limpo_ham:\n",
    "    for a in i:\n",
    "        palavrasham.append(a)\n",
    "\n",
    "\n",
    "\n",
    "Palavrasham = []\n",
    "for i in range (len(palavrasham)):\n",
    "    a = palavrasham[i].title()\n",
    "    Palavrasham.append(a)\n",
    "Palavrasspam = []\n",
    "for i in range (len(palavrasspam)):\n",
    "    b = palavrasspam[i].title()\n",
    "    Palavrasspam.append(b)\n",
    "    "
   ]
  },
  {
   "cell_type": "code",
   "execution_count": 10,
   "metadata": {
    "scrolled": true
   },
   "outputs": [
    {
     "name": "stdout",
     "output_type": "stream",
     "text": [
      "Probabilidade palavra ser spam: 20.68415510406343%\n",
      "Probabilidade palavra ser ham: 79.31584489593658%\n"
     ]
    }
   ],
   "source": [
    "probabilidade_word_spam = len(Palavrasspam) / (len(Palavrasham) + len(Palavrasspam))*100\n",
    "print(\"Probabilidade palavra ser spam: {}%\".format (probabilidade_word_spam))\n",
    "\n",
    "probabilidade_word_ham = len(Palavrasham) / (len(Palavrasham) + len(Palavrasspam))*100\n",
    "print(\"Probabilidade palavra ser ham: {}%\".format (probabilidade_word_ham))"
   ]
  },
  {
   "cell_type": "markdown",
   "metadata": {},
   "source": [
    "Mais além, foi feito o mesmo cálculo das frases, para as palavras, utilizando a mesma lógica podemos dizer a probabilidade de uma palavra ser ham ou spam dentro de um universo de palavras"
   ]
  },
  {
   "cell_type": "code",
   "execution_count": 11,
   "metadata": {
    "collapsed": true
   },
   "outputs": [],
   "source": [
    "dicHAM = {}\n",
    "for i in range (len(Palavrasham)):\n",
    "    if Palavrasham[i] in dicHAM:\n",
    "        dicHAM[Palavrasham[i]] = dicHAM[Palavrasham[i]] + 1\n",
    "    else:\n",
    "        dicHAM[Palavrasham[i]] = 1\n",
    "\n",
    "dicSPAM = {}\n",
    "for i in range (len(Palavrasspam)):\n",
    "    if Palavrasspam[i] in dicSPAM:\n",
    "        dicSPAM[Palavrasspam[i]] = dicSPAM[Palavrasspam[i]] + 1\n",
    "    else:\n",
    "        dicSPAM[Palavrasspam[i]] = 1"
   ]
  },
  {
   "cell_type": "markdown",
   "metadata": {},
   "source": [
    "Foi criado um dicionário que possui cada palavra com a contagem do número de vezes que ela apareceu em um e-mail spam. O mesmo dicionário foi feito para as palavras de e-mail classificados préviamente como ham. "
   ]
  },
  {
   "cell_type": "code",
   "execution_count": 12,
   "metadata": {
    "collapsed": true
   },
   "outputs": [],
   "source": [
    "palavras_total=[]\n",
    "for i in dicHAM:\n",
    "    if i not in palavras_total:\n",
    "        palavras_total.append(i)\n",
    "for i in dicSPAM:\n",
    "    if i not in palavras_total:\n",
    "        palavras_total.append(i)"
   ]
  },
  {
   "cell_type": "markdown",
   "metadata": {},
   "source": [
    "Criação de um dicionário com todas as palavras que apareceram nos e-mail independente de sua classificação, para efeito de contagem."
   ]
  },
  {
   "cell_type": "code",
   "execution_count": 75,
   "metadata": {},
   "outputs": [
    {
     "name": "stderr",
     "output_type": "stream",
     "text": [
      "C:\\Users\\Camila\\Anaconda3\\lib\\site-packages\\ipykernel_launcher.py:45: SettingWithCopyWarning: \n",
      "A value is trying to be set on a copy of a slice from a DataFrame.\n",
      "Try using .loc[row_indexer,col_indexer] = value instead\n",
      "\n",
      "See the caveats in the documentation: http://pandas.pydata.org/pandas-docs/stable/indexing.html#indexing-view-versus-copy\n"
     ]
    }
   ],
   "source": [
    "#probabilidade de uma mesagem ser ham\n",
    "lista_teste=[]\n",
    "classificador=[]\n",
    "\n",
    "for i in range(len(final)):\n",
    "    lista_teste.append(final.iloc[i,0].split())\n",
    "    \n",
    "for i in lista_teste:\n",
    "    Probabilidade_ser_ham=[]\n",
    "    Probabilidade_ser_spam=[]\n",
    "    for z in i:         \n",
    "        if z in dicHAM:\n",
    "            a=(dicHAM[z]/len(Palavrasham))+(1/len(palavras_total))\n",
    "            b=1/len(palavras_total)\n",
    "            Probabilidade_ser_ham.append(a)\n",
    "            Probabilidade_ser_spam.append(b)\n",
    "            \n",
    "        if z in dicSPAM:\n",
    "            a=(dicSPAM[z]/len(Palavrasspam))+(1/len(palavras_total))\n",
    "            b=1/len(palavras_total)\n",
    "            Probabilidade_ser_ham.append(b)\n",
    "            Probabilidade_ser_spam.append(a)\n",
    "            \n",
    "    probabilidade_frase_ham=1\n",
    "    probabilidade_frase_spam=1\n",
    "    \n",
    "    for o in Probabilidade_ser_ham:\n",
    "        probabilidade_frase_ham=probabilidade_frase_ham*o\n",
    "        \n",
    "    for o in Probabilidade_ser_spam:\n",
    "        probabilidade_frase_spam=probabilidade_frase_spam*o  \n",
    "       \n",
    "    if Probabilidade_ser_spam>Probabilidade_ser_ham:\n",
    "        #print(\"Spam\")\n",
    "        classificador.append(\"Spam\")\n",
    "\n",
    "\n",
    "    if Probabilidade_ser_ham>Probabilidade_ser_spam:\n",
    "        #print(\"Ham\")\n",
    "        classificador.append(\"Ham\")\n",
    "        \n",
    "    if Probabilidade_ser_ham==Probabilidade_ser_spam:\n",
    "        classificador.append(\"Ham\")\n",
    "\n",
    "final[\"Classificador\"]=classificador"
   ]
  },
  {
   "cell_type": "markdown",
   "metadata": {},
   "source": [
    "Na célula acima foram feitos diversos cálculos probabilísticos, para saber a chance de um e-mail ser spam ou ham, dado as palavras contidas nele e as probabilidades de cada uma de serem classificadas de uma das duas formas. Esse cálculo foi feito pela multipicação das probabilidades de cada palavra da a fórmula para cada uma: (n° repetição da palavra/n° palavras spam) + (1/n° palavras no total)"
   ]
  },
  {
   "cell_type": "code",
   "execution_count": 34,
   "metadata": {},
   "outputs": [
    {
     "data": {
      "text/html": [
       "<div>\n",
       "<style>\n",
       "    .dataframe thead tr:only-child th {\n",
       "        text-align: right;\n",
       "    }\n",
       "\n",
       "    .dataframe thead th {\n",
       "        text-align: left;\n",
       "    }\n",
       "\n",
       "    .dataframe tbody tr th {\n",
       "        vertical-align: top;\n",
       "    }\n",
       "</style>\n",
       "<table border=\"1\" class=\"dataframe\">\n",
       "  <thead>\n",
       "    <tr style=\"text-align: right;\">\n",
       "      <th></th>\n",
       "      <th>Email</th>\n",
       "      <th>Class</th>\n",
       "      <th>Classificador</th>\n",
       "    </tr>\n",
       "  </thead>\n",
       "  <tbody>\n",
       "    <tr>\n",
       "      <th>3715</th>\n",
       "      <td>Networking technical support associate.</td>\n",
       "      <td>ham</td>\n",
       "      <td>Ham</td>\n",
       "    </tr>\n",
       "    <tr>\n",
       "      <th>2429</th>\n",
       "      <td>How was txting and driving</td>\n",
       "      <td>ham</td>\n",
       "      <td>Ham</td>\n",
       "    </tr>\n",
       "    <tr>\n",
       "      <th>3025</th>\n",
       "      <td>I finished my lunch already. U wake up already?</td>\n",
       "      <td>ham</td>\n",
       "      <td>Ham</td>\n",
       "    </tr>\n",
       "    <tr>\n",
       "      <th>4618</th>\n",
       "      <td>Sorry, I'll call later In meeting.</td>\n",
       "      <td>ham</td>\n",
       "      <td>Ham</td>\n",
       "    </tr>\n",
       "    <tr>\n",
       "      <th>780</th>\n",
       "      <td>Your opinion about me? 1. Over 2. Jada 3. Kusr...</td>\n",
       "      <td>ham</td>\n",
       "      <td>Ham</td>\n",
       "    </tr>\n",
       "    <tr>\n",
       "      <th>407</th>\n",
       "      <td>Hello! Good week? Fancy a drink or something l...</td>\n",
       "      <td>ham</td>\n",
       "      <td>Ham</td>\n",
       "    </tr>\n",
       "    <tr>\n",
       "      <th>1240</th>\n",
       "      <td>Oh yes I can speak txt 2 u no! Hmm. Did u get ...</td>\n",
       "      <td>ham</td>\n",
       "      <td>Ham</td>\n",
       "    </tr>\n",
       "    <tr>\n",
       "      <th>2335</th>\n",
       "      <td>\\Aww you must be nearly dead!Well Jez isComing...</td>\n",
       "      <td>ham</td>\n",
       "      <td>Ham</td>\n",
       "    </tr>\n",
       "    <tr>\n",
       "      <th>1558</th>\n",
       "      <td>Message from . I am at Truro Hospital on ext. ...</td>\n",
       "      <td>ham</td>\n",
       "      <td>Ham</td>\n",
       "    </tr>\n",
       "    <tr>\n",
       "      <th>5138</th>\n",
       "      <td>Yup... I havent been there before... You want ...</td>\n",
       "      <td>ham</td>\n",
       "      <td>Ham</td>\n",
       "    </tr>\n",
       "    <tr>\n",
       "      <th>5062</th>\n",
       "      <td>Ok i also wan 2 watch e 9 pm show...</td>\n",
       "      <td>ham</td>\n",
       "      <td>Ham</td>\n",
       "    </tr>\n",
       "    <tr>\n",
       "      <th>2015</th>\n",
       "      <td>Princess, is your kitty shaved or natural?</td>\n",
       "      <td>ham</td>\n",
       "      <td>Ham</td>\n",
       "    </tr>\n",
       "    <tr>\n",
       "      <th>2610</th>\n",
       "      <td>Knock Knock Txt whose there to 80082 to enter ...</td>\n",
       "      <td>spam</td>\n",
       "      <td>Ham</td>\n",
       "    </tr>\n",
       "    <tr>\n",
       "      <th>2772</th>\n",
       "      <td>How come it takes so little time for a child w...</td>\n",
       "      <td>spam</td>\n",
       "      <td>Ham</td>\n",
       "    </tr>\n",
       "    <tr>\n",
       "      <th>1955</th>\n",
       "      <td>K...k:)why cant you come here and search job:)</td>\n",
       "      <td>ham</td>\n",
       "      <td>Ham</td>\n",
       "    </tr>\n",
       "    <tr>\n",
       "      <th>1939</th>\n",
       "      <td>Dude avatar 3d was imp. At one point i thought...</td>\n",
       "      <td>ham</td>\n",
       "      <td>Ham</td>\n",
       "    </tr>\n",
       "    <tr>\n",
       "      <th>1777</th>\n",
       "      <td>7 wonders in My WORLD 7th You 6th Ur style 5th...</td>\n",
       "      <td>ham</td>\n",
       "      <td>Ham</td>\n",
       "    </tr>\n",
       "    <tr>\n",
       "      <th>3733</th>\n",
       "      <td>4 tacos + 1 rajas burrito, right?</td>\n",
       "      <td>ham</td>\n",
       "      <td>Ham</td>\n",
       "    </tr>\n",
       "    <tr>\n",
       "      <th>3872</th>\n",
       "      <td>Happy or sad , one thing about past is- \\Its n...</td>\n",
       "      <td>ham</td>\n",
       "      <td>Ham</td>\n",
       "    </tr>\n",
       "    <tr>\n",
       "      <th>1096</th>\n",
       "      <td>Dear Subscriber ur draw 4 å£100 gift voucher w...</td>\n",
       "      <td>spam</td>\n",
       "      <td>Ham</td>\n",
       "    </tr>\n",
       "    <tr>\n",
       "      <th>739</th>\n",
       "      <td>Haha mayb u're rite... U know me well. Da feel...</td>\n",
       "      <td>ham</td>\n",
       "      <td>Ham</td>\n",
       "    </tr>\n",
       "    <tr>\n",
       "      <th>2438</th>\n",
       "      <td>Rightio. 11.48 it is then. Well arent we all u...</td>\n",
       "      <td>ham</td>\n",
       "      <td>Ham</td>\n",
       "    </tr>\n",
       "    <tr>\n",
       "      <th>2150</th>\n",
       "      <td>I surely dont forgot to come:)i will always be...</td>\n",
       "      <td>ham</td>\n",
       "      <td>Ham</td>\n",
       "    </tr>\n",
       "    <tr>\n",
       "      <th>2799</th>\n",
       "      <td>House-Maid is the murderer, coz the man was mu...</td>\n",
       "      <td>ham</td>\n",
       "      <td>Ham</td>\n",
       "    </tr>\n",
       "    <tr>\n",
       "      <th>19</th>\n",
       "      <td>England v Macedonia - dont miss the goals/team...</td>\n",
       "      <td>spam</td>\n",
       "      <td>Spam</td>\n",
       "    </tr>\n",
       "    <tr>\n",
       "      <th>5066</th>\n",
       "      <td>83039 62735=å£450 UK Break AccommodationVouche...</td>\n",
       "      <td>spam</td>\n",
       "      <td>Ham</td>\n",
       "    </tr>\n",
       "    <tr>\n",
       "      <th>955</th>\n",
       "      <td>Sorry i now then c ur msg... Yar lor so poor t...</td>\n",
       "      <td>ham</td>\n",
       "      <td>Ham</td>\n",
       "    </tr>\n",
       "    <tr>\n",
       "      <th>1569</th>\n",
       "      <td>I dont have that much image in class.</td>\n",
       "      <td>ham</td>\n",
       "      <td>Ham</td>\n",
       "    </tr>\n",
       "    <tr>\n",
       "      <th>368</th>\n",
       "      <td>Wat uniform? In where get?</td>\n",
       "      <td>ham</td>\n",
       "      <td>Ham</td>\n",
       "    </tr>\n",
       "    <tr>\n",
       "      <th>3394</th>\n",
       "      <td>Then i buy.</td>\n",
       "      <td>ham</td>\n",
       "      <td>Ham</td>\n",
       "    </tr>\n",
       "    <tr>\n",
       "      <th>...</th>\n",
       "      <td>...</td>\n",
       "      <td>...</td>\n",
       "      <td>...</td>\n",
       "    </tr>\n",
       "    <tr>\n",
       "      <th>4044</th>\n",
       "      <td>If You mean the website. Yes.</td>\n",
       "      <td>ham</td>\n",
       "      <td>Ham</td>\n",
       "    </tr>\n",
       "    <tr>\n",
       "      <th>2534</th>\n",
       "      <td>Can you pls pls send me a mail on all you know...</td>\n",
       "      <td>ham</td>\n",
       "      <td>Ham</td>\n",
       "    </tr>\n",
       "    <tr>\n",
       "      <th>4101</th>\n",
       "      <td>Ok then i will come to ur home after half an hour</td>\n",
       "      <td>ham</td>\n",
       "      <td>Ham</td>\n",
       "    </tr>\n",
       "    <tr>\n",
       "      <th>2785</th>\n",
       "      <td>cThen i thk shd b enuff.. Still got conclusion...</td>\n",
       "      <td>ham</td>\n",
       "      <td>Ham</td>\n",
       "    </tr>\n",
       "    <tr>\n",
       "      <th>234</th>\n",
       "      <td>Text &amp; meet someone sexy today. U can find a d...</td>\n",
       "      <td>spam</td>\n",
       "      <td>Ham</td>\n",
       "    </tr>\n",
       "    <tr>\n",
       "      <th>1727</th>\n",
       "      <td>As per your request 'Maangalyam (Alaipayuthe)'...</td>\n",
       "      <td>ham</td>\n",
       "      <td>Ham</td>\n",
       "    </tr>\n",
       "    <tr>\n",
       "      <th>1924</th>\n",
       "      <td>We don call like  &amp;lt;#&amp;gt;  times oh. No give...</td>\n",
       "      <td>ham</td>\n",
       "      <td>Ham</td>\n",
       "    </tr>\n",
       "    <tr>\n",
       "      <th>4942</th>\n",
       "      <td>Check mail.i have mailed varma and kept copy t...</td>\n",
       "      <td>ham</td>\n",
       "      <td>Ham</td>\n",
       "    </tr>\n",
       "    <tr>\n",
       "      <th>2880</th>\n",
       "      <td>Printer is cool. I mean groovy. Wine is groovying</td>\n",
       "      <td>ham</td>\n",
       "      <td>Ham</td>\n",
       "    </tr>\n",
       "    <tr>\n",
       "      <th>4013</th>\n",
       "      <td>Sorry, I can't text &amp;amp; drive coherently, se...</td>\n",
       "      <td>ham</td>\n",
       "      <td>Ham</td>\n",
       "    </tr>\n",
       "    <tr>\n",
       "      <th>5029</th>\n",
       "      <td>Is there coming friday is leave for pongal?do ...</td>\n",
       "      <td>ham</td>\n",
       "      <td>Ham</td>\n",
       "    </tr>\n",
       "    <tr>\n",
       "      <th>1344</th>\n",
       "      <td>Were somewhere on Fredericksburg</td>\n",
       "      <td>ham</td>\n",
       "      <td>Ham</td>\n",
       "    </tr>\n",
       "    <tr>\n",
       "      <th>787</th>\n",
       "      <td>Ever thought about living a good life with a p...</td>\n",
       "      <td>spam</td>\n",
       "      <td>Ham</td>\n",
       "    </tr>\n",
       "    <tr>\n",
       "      <th>3570</th>\n",
       "      <td>But you dint in touch with me.</td>\n",
       "      <td>ham</td>\n",
       "      <td>Ham</td>\n",
       "    </tr>\n",
       "    <tr>\n",
       "      <th>1689</th>\n",
       "      <td>Sunshine Quiz Wkly Q! Win a top Sony DVD playe...</td>\n",
       "      <td>spam</td>\n",
       "      <td>Spam</td>\n",
       "    </tr>\n",
       "    <tr>\n",
       "      <th>1429</th>\n",
       "      <td>For sale - arsenal dartboard. Good condition b...</td>\n",
       "      <td>spam</td>\n",
       "      <td>Ham</td>\n",
       "    </tr>\n",
       "    <tr>\n",
       "      <th>4892</th>\n",
       "      <td>Send me the new number</td>\n",
       "      <td>ham</td>\n",
       "      <td>Ham</td>\n",
       "    </tr>\n",
       "    <tr>\n",
       "      <th>2427</th>\n",
       "      <td>She.s find. I sent you an offline message to k...</td>\n",
       "      <td>ham</td>\n",
       "      <td>Ham</td>\n",
       "    </tr>\n",
       "    <tr>\n",
       "      <th>3791</th>\n",
       "      <td>Love it! I want to flood that pretty pussy wit...</td>\n",
       "      <td>ham</td>\n",
       "      <td>Ham</td>\n",
       "    </tr>\n",
       "    <tr>\n",
       "      <th>5188</th>\n",
       "      <td>Okie</td>\n",
       "      <td>ham</td>\n",
       "      <td>Ham</td>\n",
       "    </tr>\n",
       "    <tr>\n",
       "      <th>1653</th>\n",
       "      <td>Wishing you and your family Merry \\X\\\" mas and...</td>\n",
       "      <td>ham</td>\n",
       "      <td>Ham</td>\n",
       "    </tr>\n",
       "    <tr>\n",
       "      <th>5282</th>\n",
       "      <td>I have gone into get info bt dont know what to do</td>\n",
       "      <td>ham</td>\n",
       "      <td>Ham</td>\n",
       "    </tr>\n",
       "    <tr>\n",
       "      <th>4390</th>\n",
       "      <td>The greatest test of courage on earth is to be...</td>\n",
       "      <td>ham</td>\n",
       "      <td>Ham</td>\n",
       "    </tr>\n",
       "    <tr>\n",
       "      <th>1206</th>\n",
       "      <td>As a SIM subscriber, you are selected to recei...</td>\n",
       "      <td>spam</td>\n",
       "      <td>Ham</td>\n",
       "    </tr>\n",
       "    <tr>\n",
       "      <th>1972</th>\n",
       "      <td>I had askd u a question some hours before. Its...</td>\n",
       "      <td>ham</td>\n",
       "      <td>Ham</td>\n",
       "    </tr>\n",
       "    <tr>\n",
       "      <th>2161</th>\n",
       "      <td>1) Go to write msg 2) Put on Dictionary mode 3...</td>\n",
       "      <td>ham</td>\n",
       "      <td>Ham</td>\n",
       "    </tr>\n",
       "    <tr>\n",
       "      <th>1197</th>\n",
       "      <td>He also knows about lunch menu only da. . I know</td>\n",
       "      <td>ham</td>\n",
       "      <td>Ham</td>\n",
       "    </tr>\n",
       "    <tr>\n",
       "      <th>145</th>\n",
       "      <td>Whats the staff name who is taking class for us?</td>\n",
       "      <td>ham</td>\n",
       "      <td>Ham</td>\n",
       "    </tr>\n",
       "    <tr>\n",
       "      <th>3009</th>\n",
       "      <td>Imagine Life WITHOUT ME... see.. How fast u ar...</td>\n",
       "      <td>ham</td>\n",
       "      <td>Ham</td>\n",
       "    </tr>\n",
       "    <tr>\n",
       "      <th>429</th>\n",
       "      <td>I wnt to buy a BMW car urgently..its vry urgen...</td>\n",
       "      <td>ham</td>\n",
       "      <td>Ham</td>\n",
       "    </tr>\n",
       "  </tbody>\n",
       "</table>\n",
       "<p>1391 rows × 3 columns</p>\n",
       "</div>"
      ],
      "text/plain": [
       "                                                  Email Class Classificador\n",
       "3715            Networking technical support associate.   ham           Ham\n",
       "2429                         How was txting and driving   ham           Ham\n",
       "3025    I finished my lunch already. U wake up already?   ham           Ham\n",
       "4618                 Sorry, I'll call later In meeting.   ham           Ham\n",
       "780   Your opinion about me? 1. Over 2. Jada 3. Kusr...   ham           Ham\n",
       "407   Hello! Good week? Fancy a drink or something l...   ham           Ham\n",
       "1240  Oh yes I can speak txt 2 u no! Hmm. Did u get ...   ham           Ham\n",
       "2335  \\Aww you must be nearly dead!Well Jez isComing...   ham           Ham\n",
       "1558  Message from . I am at Truro Hospital on ext. ...   ham           Ham\n",
       "5138  Yup... I havent been there before... You want ...   ham           Ham\n",
       "5062               Ok i also wan 2 watch e 9 pm show...   ham           Ham\n",
       "2015         Princess, is your kitty shaved or natural?   ham           Ham\n",
       "2610  Knock Knock Txt whose there to 80082 to enter ...  spam           Ham\n",
       "2772  How come it takes so little time for a child w...  spam           Ham\n",
       "1955     K...k:)why cant you come here and search job:)   ham           Ham\n",
       "1939  Dude avatar 3d was imp. At one point i thought...   ham           Ham\n",
       "1777  7 wonders in My WORLD 7th You 6th Ur style 5th...   ham           Ham\n",
       "3733                  4 tacos + 1 rajas burrito, right?   ham           Ham\n",
       "3872  Happy or sad , one thing about past is- \\Its n...   ham           Ham\n",
       "1096  Dear Subscriber ur draw 4 å£100 gift voucher w...  spam           Ham\n",
       "739   Haha mayb u're rite... U know me well. Da feel...   ham           Ham\n",
       "2438  Rightio. 11.48 it is then. Well arent we all u...   ham           Ham\n",
       "2150  I surely dont forgot to come:)i will always be...   ham           Ham\n",
       "2799  House-Maid is the murderer, coz the man was mu...   ham           Ham\n",
       "19    England v Macedonia - dont miss the goals/team...  spam          Spam\n",
       "5066  83039 62735=å£450 UK Break AccommodationVouche...  spam           Ham\n",
       "955   Sorry i now then c ur msg... Yar lor so poor t...   ham           Ham\n",
       "1569              I dont have that much image in class.   ham           Ham\n",
       "368                          Wat uniform? In where get?   ham           Ham\n",
       "3394                                        Then i buy.   ham           Ham\n",
       "...                                                 ...   ...           ...\n",
       "4044                      If You mean the website. Yes.   ham           Ham\n",
       "2534  Can you pls pls send me a mail on all you know...   ham           Ham\n",
       "4101  Ok then i will come to ur home after half an hour   ham           Ham\n",
       "2785  cThen i thk shd b enuff.. Still got conclusion...   ham           Ham\n",
       "234   Text & meet someone sexy today. U can find a d...  spam           Ham\n",
       "1727  As per your request 'Maangalyam (Alaipayuthe)'...   ham           Ham\n",
       "1924  We don call like  &lt;#&gt;  times oh. No give...   ham           Ham\n",
       "4942  Check mail.i have mailed varma and kept copy t...   ham           Ham\n",
       "2880  Printer is cool. I mean groovy. Wine is groovying   ham           Ham\n",
       "4013  Sorry, I can't text &amp; drive coherently, se...   ham           Ham\n",
       "5029  Is there coming friday is leave for pongal?do ...   ham           Ham\n",
       "1344                   Were somewhere on Fredericksburg   ham           Ham\n",
       "787   Ever thought about living a good life with a p...  spam           Ham\n",
       "3570                     But you dint in touch with me.   ham           Ham\n",
       "1689  Sunshine Quiz Wkly Q! Win a top Sony DVD playe...  spam          Spam\n",
       "1429  For sale - arsenal dartboard. Good condition b...  spam           Ham\n",
       "4892                             Send me the new number   ham           Ham\n",
       "2427  She.s find. I sent you an offline message to k...   ham           Ham\n",
       "3791  Love it! I want to flood that pretty pussy wit...   ham           Ham\n",
       "5188                                               Okie   ham           Ham\n",
       "1653  Wishing you and your family Merry \\X\\\" mas and...   ham           Ham\n",
       "5282  I have gone into get info bt dont know what to do   ham           Ham\n",
       "4390  The greatest test of courage on earth is to be...   ham           Ham\n",
       "1206  As a SIM subscriber, you are selected to recei...  spam           Ham\n",
       "1972  I had askd u a question some hours before. Its...   ham           Ham\n",
       "2161  1) Go to write msg 2) Put on Dictionary mode 3...   ham           Ham\n",
       "1197   He also knows about lunch menu only da. . I know   ham           Ham\n",
       "145    Whats the staff name who is taking class for us?   ham           Ham\n",
       "3009  Imagine Life WITHOUT ME... see.. How fast u ar...   ham           Ham\n",
       "429   I wnt to buy a BMW car urgently..its vry urgen...   ham           Ham\n",
       "\n",
       "[1391 rows x 3 columns]"
      ]
     },
     "execution_count": 34,
     "metadata": {},
     "output_type": "execute_result"
    }
   ],
   "source": [
    "final"
   ]
  },
  {
   "cell_type": "markdown",
   "metadata": {},
   "source": [
    "Temos acima uma amostra de nosso dataframe final, com uma coluna, a última, criada a partir de nosso classificador"
   ]
  },
  {
   "cell_type": "code",
   "execution_count": 79,
   "metadata": {},
   "outputs": [
    {
     "name": "stdout",
     "output_type": "stream",
     "text": [
      "Porcentagem de acerto de e-mails ham: 88.23529411764706%\n",
      "Porcentagem de acerto de e-mails spam: 97.91666666666666%\n"
     ]
    }
   ],
   "source": [
    "VN = 0\n",
    "VP = 0\n",
    "FN = 0\n",
    "FP = 0\n",
    "\n",
    "for i in range (len(final)):\n",
    "    if final.iloc[i,2]==\"Ham\":\n",
    "        if final.iloc[i,1]==\"ham\":\n",
    "            VP=VP+1\n",
    "        if final.iloc[i,1]==\"spam\":\n",
    "            FP=FP+1\n",
    "\n",
    "    if final.iloc[i,2]==\"Spam\":\n",
    "        if final.iloc[i,1]==\"spam\":\n",
    "            VN=VN+1\n",
    "        if final.iloc[i,1]==\"ham\":\n",
    "            FN=FN+1\n",
    "\n",
    "acerto_spam = VN/(VN+FN)*100\n",
    "acerto_ham= VP/(VP+FP)*100\n",
    "print(\"Porcentagem de acerto de e-mails ham: {}%\".format (acerto_ham))\n",
    "print(\"Porcentagem de acerto de e-mails spam: {}%\".format (acerto_spam))\n"
   ]
  },
  {
   "cell_type": "markdown",
   "metadata": {},
   "source": [
    "Os números finais de acerto para nosso classificador foram significamente altos, tendo uma porcentagem de acerto de 98% do emails spam e de aproximadamente 88% de e-mail ham"
   ]
  },
  {
   "cell_type": "code",
   "execution_count": 80,
   "metadata": {},
   "outputs": [],
   "source": [
    "import math\n",
    "\n",
    "PT = VP+FP\n",
    "NT= VN+FN\n",
    "acuracia = (VP+VN)/(PT+NT)\n",
    "sensibilidade = VP/(VP+FN)\n",
    "especificidade = VN/(VN+FP)\n",
    "eficiencia = (sensibilidade+especificidade)/2\n",
    "verdadeiropp = VP/(VP+FP)\n",
    "verdadeiropn = VN/(VN+FN)\n",
    "\n",
    "CoeficientePhi = (VP*VN - FP*FN) / math.sqrt((VP + FP)*(VP + FN)*(VN + FP)*(VN + FN))"
   ]
  },
  {
   "cell_type": "markdown",
   "metadata": {},
   "source": [
    "___\n",
    "## 5. Qualidade do Classificador alterando a base de treinamento"
   ]
  },
  {
   "cell_type": "code",
   "execution_count": 70,
   "metadata": {},
   "outputs": [
    {
     "name": "stderr",
     "output_type": "stream",
     "text": [
      "C:\\Users\\Camila\\Anaconda3\\lib\\site-packages\\ipykernel_launcher.py:97: SettingWithCopyWarning: \n",
      "A value is trying to be set on a copy of a slice from a DataFrame.\n",
      "Try using .loc[row_indexer,col_indexer] = value instead\n",
      "\n",
      "See the caveats in the documentation: http://pandas.pydata.org/pandas-docs/stable/indexing.html#indexing-view-versus-copy\n"
     ]
    }
   ],
   "source": [
    "AS = []\n",
    "AH = []\n",
    "lista_especi=[]\n",
    "lista_sensi=[]\n",
    "\n",
    "for i in range (1000):\n",
    "    dfal = shuffle(database)\n",
    "    teste = dfal.iloc[0:4181, :]\n",
    "    final = dfal.iloc[4181:, :]\n",
    "    teste_limpo_spam=[]\n",
    "    teste_limpo_ham=[]\n",
    "    \n",
    "    for i in range(0,teste.Email.size-1):\n",
    "        if teste.iloc[i,1]=='spam':\n",
    "            teste_limpo_spam.append(str(teste.iloc[i,0]).split())\n",
    "        if teste.iloc[i,1]=='ham':\n",
    "            teste_limpo_ham.append(str(teste.iloc[i,0]).split())\n",
    "    palavras_teste_spam=[]\n",
    "    palavras_teste_ham=[]\n",
    "    \n",
    "    for i in teste_limpo_spam:\n",
    "        for c in i:\n",
    "            if c not in palavras_teste_spam:\n",
    "                palavras_teste_spam.append(c)\n",
    "                \n",
    "    for i in teste_limpo_ham:\n",
    "        for c in i:\n",
    "            if c not in palavras_teste_ham:\n",
    "                palavras_teste_ham.append(c)\n",
    "                \n",
    "    probabilidade_ham=len(teste_limpo_ham)/(len(teste_limpo_ham)+len(teste_limpo_spam))*100\n",
    "    probabilidade_spam=len(teste_limpo_spam)/(len(teste_limpo_ham)+len(teste_limpo_spam))*100\n",
    "    dicHAM = {}\n",
    "    \n",
    "    for i in range (len(Palavrasham)):\n",
    "        if Palavrasham[i] in dicHAM:\n",
    "            dicHAM[Palavrasham[i]] = dicHAM[Palavrasham[i]] + 1\n",
    "        else:\n",
    "            dicHAM[Palavrasham[i]] = 1\n",
    "    dicSPAM = {}\n",
    "    \n",
    "    for i in range (len(Palavrasspam)):\n",
    "        if Palavrasspam[i] in dicSPAM:\n",
    "            dicSPAM[Palavrasspam[i]] = dicSPAM[Palavrasspam[i]] + 1\n",
    "        else:\n",
    "            dicSPAM[Palavrasspam[i]] = 1\n",
    "    palavras_total=[]\n",
    "    \n",
    "    for i in dicHAM:\n",
    "        if i not in palavras_total:\n",
    "            palavras_total.append(i)\n",
    "    for i in dicSPAM:\n",
    "        \n",
    "        if i not in palavras_total:\n",
    "            palavras_total.append(i)\n",
    "    lista_teste=[]\n",
    "    classificador=[]\n",
    "    \n",
    "    for i in range(len(final)):\n",
    "        lista_teste.append(final.iloc[i,0].split())\n",
    "        \n",
    "    for i in lista_teste:\n",
    "        Probabilidade_ser_ham=[]\n",
    "        Probabilidade_ser_spam=[]\n",
    "        \n",
    "        for z in i:         \n",
    "            if z in dicHAM:\n",
    "                a=(dicHAM[z]/len(Palavrasham))+(1/len(palavras_total))\n",
    "                b=1/len(palavras_total)\n",
    "                Probabilidade_ser_ham.append(a)\n",
    "                Probabilidade_ser_spam.append(b)\n",
    "                \n",
    "            if z in dicSPAM:\n",
    "                a=(dicSPAM[z]/len(Palavrasspam))+(1/len(palavras_total))\n",
    "                b=1/len(palavras_total)\n",
    "                Probabilidade_ser_ham.append(b)\n",
    "                Probabilidade_ser_spam.append(a)\n",
    "                \n",
    "        probabilidade_frase_ham=1\n",
    "        probabilidade_frase_spam=1\n",
    "        \n",
    "        for o in Probabilidade_ser_ham:\n",
    "            probabilidade_frase_ham=probabilidade_frase_ham*o\n",
    "            \n",
    "        for o in Probabilidade_ser_spam:\n",
    "            probabilidade_frase_spam=probabilidade_frase_spam*o \n",
    "            \n",
    "        if Probabilidade_ser_spam>Probabilidade_ser_ham:\n",
    "            classificador.append(\"Spam\")\n",
    "            \n",
    "        if Probabilidade_ser_ham>Probabilidade_ser_spam:\n",
    "            classificador.append(\"Ham\")\n",
    "            \n",
    "        if Probabilidade_ser_ham==Probabilidade_ser_spam:\n",
    "            classificador.append(\"Ham\")\n",
    "            \n",
    "    final[\"Classificador\"]=classificador\n",
    "    \n",
    "    VN = 0\n",
    "    VP = 0\n",
    "    FN = 0\n",
    "    FP = 0\n",
    "\n",
    "    for i in range (len(final)):\n",
    "        if final.iloc[i,2]==\"Ham\":\n",
    "            if final.iloc[i,1]==\"ham\":\n",
    "                VP=VP+1\n",
    "            if final.iloc[i,1]==\"spam\":\n",
    "                FP=FP+1\n",
    "\n",
    "        if final.iloc[i,2]==\"Spam\":\n",
    "            if final.iloc[i,1]==\"spam\":\n",
    "                VN=VN+1\n",
    "            if final.iloc[i,1]==\"ham\":\n",
    "                FN=FN+1\n",
    "    sensibilidade = VP/(VP+FN)\n",
    "    especificidade = VN/(VN+FP)\n",
    "    lista_sensi.append(sensibilidade)\n",
    "    lista_especi.append(especificidade)\n",
    "    \n",
    "    acerto_spam = VN/(VN+FN)*100\n",
    "    acerto_ham= VP/(VP+FP)*100\n",
    "    AS.append(acerto_spam)\n",
    "    AH.append(acerto_ham)"
   ]
  },
  {
   "cell_type": "markdown",
   "metadata": {},
   "source": [
    "Para verificar a influência do dataframe de treinamento no desempenho do classificador, rodamos diversas o código alterando aleatóriamente os mesmos 75% de e-mail utilizados para treinamento. Para visualização efetiva da diferença, guardamos os dados de porcentagem de acerto para ham e spam  e posteriormente fizemos uma média simples apenas para efeito de comparação entre os diversos databases."
   ]
  },
  {
   "cell_type": "code",
   "execution_count": 82,
   "metadata": {},
   "outputs": [],
   "source": [
    "Porcentagem_total=[]\n",
    "for a in range(len(AS)):\n",
    "    b=(AS[a]+AH[a])/2\n",
    "    Porcentagem_total.append(b)"
   ]
  },
  {
   "cell_type": "code",
   "execution_count": 85,
   "metadata": {},
   "outputs": [
    {
     "data": {
      "image/png": "[encoded data removed]",
      "text/plain": [
       "<matplotlib.figure.Figure at 0x197f8c8ea58>"
      ]
     },
     "metadata": {},
     "output_type": "display_data"
    }
   ],
   "source": [
    "plt.hist(Porcentagem_total, normed=True, bins=30,  alpha=0.5)\n",
    "plt.xlabel('Porcentagem de acerto')\n",
    "plt.ylabel(\"Frequência\")\n",
    "plt.show()"
   ]
  },
  {
   "cell_type": "markdown",
   "metadata": {},
   "source": [
    "Como resultado dessa análise podemos ver que a mudança no dataframe de treinamento altera perceptivelmente a eficácia do classificador, apesar disso, o classificador obteve em geral um bom desempenho, sempre acima dos 88% de acerto. "
   ]
  },
  {
   "cell_type": "markdown",
   "metadata": {},
   "source": [
    "## 4. Curva ROC"
   ]
  },
  {
   "cell_type": "code",
   "execution_count": 107,
   "metadata": {},
   "outputs": [
    {
     "name": "stderr",
     "output_type": "stream",
     "text": [
      "C:\\Users\\Camila\\Anaconda3\\lib\\site-packages\\matplotlib\\axes\\_axes.py:545: UserWarning: No labelled objects found. Use label='...' kwarg on individual plots.\n",
      "  warnings.warn(\"No labelled objects found. \"\n"
     ]
    },
    {
     "data": {
      "image/png": "[encoded data removed]",
      "text/plain": [
       "<matplotlib.figure.Figure at 0x197f845d668>"
      ]
     },
     "metadata": {},
     "output_type": "display_data"
    }
   ],
   "source": [
    "import matplotlib.pyplot as plt\n",
    "from sklearn import metrics\n",
    "import numpy as np\n",
    "lista_especi2=[]\n",
    "\n",
    "for i in lista_especi:\n",
    "    lista1=1-i\n",
    "    lista_especi2.append(lista1)\n",
    "\n",
    "plt.plot(lista_especi2,lista_sensi,'o')\n",
    "plt.legend(loc = 'lower right')\n",
    "plt.plot([0, 1], [0, 1],'r--')\n",
    "plt.xlim([0, 1])\n",
    "plt.ylim([0, 1])\n",
    "plt.ylabel('True Positive Rate')\n",
    "plt.xlabel('False Positive Rate')\n",
    "plt.show() \n"
   ]
  },
  {
   "cell_type": "markdown",
   "metadata": {},
   "source": [
    "Aparentemente, pela definição de curva ROC, a curva obtida pelos diferentes valores de verdadeiro positivos e negativos encontrados devido aos diversos databases criados, está muito próximo da perfeição, indicando que o classificador é bastante confiável. Isso pode ser explicado pela, atribuição correta de valor ham ou spam à frases que possuem uma probabilidade parecida de ser classificada como qualquer uma das dua possibilidades. E que, portanto, o cutoff utilizado de 0,5 se mostrou bastante preciso"
   ]
  },
  {
   "cell_type": "markdown",
   "metadata": {},
   "source": [
    "#### Resultado: \n",
    "Em geral, o classificador montado pela dupla se mostrou bastante satisfatório tendo grande porcentagem de acerto em todos os databases aleatóriamente selecionados, apesar da diminuição dessa porcentagem em alguns casos, mas que nunca foi inferior a 88%, um número bastante alto. Além disso a curva ROC surpreendeu por esta semelhante a definição de um classificador perfeito e portanto extremamente confiável."
   ]
  },
  {
   "cell_type": "code",
   "execution_count": null,
   "metadata": {
    "collapsed": true
   },
   "outputs": [],
   "source": []
  }
 ],
 "metadata": {
  "anaconda-cloud": {},
  "kernelspec": {
   "display_name": "Python 3",
   "language": "python",
   "name": "python3"
  },
  "language_info": {
   "codemirror_mode": {
    "name": "ipython",
    "version": 3
   },
   "file_extension": ".py",
   "mimetype": "text/x-python",
   "name": "python",
   "nbconvert_exporter": "python",
   "pygments_lexer": "ipython3",
   "version": "3.6.2"
  }
 },
 "nbformat": 4,
 "nbformat_minor": 1
}
