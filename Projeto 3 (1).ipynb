{
 "cells": [
  {
   "cell_type": "markdown",
   "metadata": {},
   "source": [
    "___\n",
    "# Ciência dos Dados - PROJETO 3 - INSPER"
   ]
  },
  {
   "cell_type": "markdown",
   "metadata": {},
   "source": [
    "___\n",
    "## Nome 1 - João Laet Toledo César\n",
    "\n",
    "## Nome 2 - Pedro Isidoro\n",
    "\n",
    "## Nome 3 - Vinicius Hsu\n",
    "\n",
    "___"
   ]
  },
  {
   "cell_type": "markdown",
   "metadata": {},
   "source": [
    "___\n",
    "\n",
    "## INTRODUÇÃO"
   ]
  },
  {
   "cell_type": "markdown",
   "metadata": {},
   "source": [
    "[Detalhe aqui o objetivo deste projeto!!]"
   ]
  },
  {
   "cell_type": "markdown",
   "metadata": {},
   "source": [
    "___\n",
    "## MINERANDO DADOS e CARACTERÍSTICAS DO DATASET"
   ]
  },
  {
   "cell_type": "markdown",
   "metadata": {},
   "source": [
    "[Detalhe aqui as características da base de dados além da análise descritiva.]"
   ]
  },
  {
   "cell_type": "code",
   "execution_count": 1,
   "metadata": {
    "collapsed": true
   },
   "outputs": [],
   "source": [
    "%matplotlib inline\n",
    "import numpy as np\n",
    "import pandas as pd\n",
    "import matplotlib.pyplot as plt\n",
    "import os\n",
    "from numpy import arange\n",
    "from sklearn.utils import shuffle\n",
    "from sklearn.model_selection import train_test_split\n",
    "from sklearn.metrics import mean_squared_error, mean_absolute_error\n",
    "from sklearn.linear_model import Ridge, Lasso\n",
    "from sklearn.model_selection import GridSearchCV\n",
    "from sklearn.linear_model import ElasticNet as ElasticNetImpl"
   ]
  },
  {
   "cell_type": "code",
   "execution_count": 2,
   "metadata": {},
   "outputs": [
    {
     "name": "stdout",
     "output_type": "stream",
     "text": [
      "Esperamos trabalhar no diretório\n",
      "C:\\Users\\Vinicius\\Downloads\n"
     ]
    }
   ],
   "source": [
    "print('Esperamos trabalhar no diretório')\n",
    "print(os.getcwd())"
   ]
  },
  {
   "cell_type": "markdown",
   "metadata": {},
   "source": [
    "### BASE DE DADOS"
   ]
  },
  {
   "cell_type": "code",
   "execution_count": 3,
   "metadata": {},
   "outputs": [
    {
     "data": {
      "text/html": [
       "<div>\n",
       "<style scoped>\n",
       "    .dataframe tbody tr th:only-of-type {\n",
       "        vertical-align: middle;\n",
       "    }\n",
       "\n",
       "    .dataframe tbody tr th {\n",
       "        vertical-align: top;\n",
       "    }\n",
       "\n",
       "    .dataframe thead th {\n",
       "        text-align: right;\n",
       "    }\n",
       "</style>\n",
       "<table border=\"1\" class=\"dataframe\">\n",
       "  <thead>\n",
       "    <tr style=\"text-align: right;\">\n",
       "      <th></th>\n",
       "      <th>mpg</th>\n",
       "      <th>cylinders</th>\n",
       "      <th>cubicinches</th>\n",
       "      <th>hp</th>\n",
       "      <th>weightlbs</th>\n",
       "      <th>time-to-60</th>\n",
       "      <th>year</th>\n",
       "      <th>brand</th>\n",
       "    </tr>\n",
       "  </thead>\n",
       "  <tbody>\n",
       "    <tr>\n",
       "      <th>0</th>\n",
       "      <td>14.0</td>\n",
       "      <td>8</td>\n",
       "      <td>350</td>\n",
       "      <td>165</td>\n",
       "      <td>4209</td>\n",
       "      <td>12</td>\n",
       "      <td>1972</td>\n",
       "      <td>US.</td>\n",
       "    </tr>\n",
       "    <tr>\n",
       "      <th>1</th>\n",
       "      <td>31.9</td>\n",
       "      <td>4</td>\n",
       "      <td>89</td>\n",
       "      <td>71</td>\n",
       "      <td>1925</td>\n",
       "      <td>14</td>\n",
       "      <td>1980</td>\n",
       "      <td>Europe.</td>\n",
       "    </tr>\n",
       "    <tr>\n",
       "      <th>2</th>\n",
       "      <td>17.0</td>\n",
       "      <td>8</td>\n",
       "      <td>302</td>\n",
       "      <td>140</td>\n",
       "      <td>3449</td>\n",
       "      <td>11</td>\n",
       "      <td>1971</td>\n",
       "      <td>US.</td>\n",
       "    </tr>\n",
       "    <tr>\n",
       "      <th>3</th>\n",
       "      <td>15.0</td>\n",
       "      <td>8</td>\n",
       "      <td>400</td>\n",
       "      <td>150</td>\n",
       "      <td>3761</td>\n",
       "      <td>10</td>\n",
       "      <td>1971</td>\n",
       "      <td>US.</td>\n",
       "    </tr>\n",
       "    <tr>\n",
       "      <th>4</th>\n",
       "      <td>30.5</td>\n",
       "      <td>4</td>\n",
       "      <td>98</td>\n",
       "      <td>63</td>\n",
       "      <td>2051</td>\n",
       "      <td>17</td>\n",
       "      <td>1978</td>\n",
       "      <td>US.</td>\n",
       "    </tr>\n",
       "  </tbody>\n",
       "</table>\n",
       "</div>"
      ],
      "text/plain": [
       "    mpg  cylinders  cubicinches   hp  weightlbs  time-to-60  year     brand\n",
       "0  14.0          8          350  165       4209          12  1972       US.\n",
       "1  31.9          4           89   71       1925          14  1980   Europe.\n",
       "2  17.0          8          302  140       3449          11  1971       US.\n",
       "3  15.0          8          400  150       3761          10  1971       US.\n",
       "4  30.5          4           98   63       2051          17  1978       US."
      ]
     },
     "execution_count": 3,
     "metadata": {},
     "output_type": "execute_result"
    }
   ],
   "source": [
    "dados = pd.read_excel('cars.xlsx')\n",
    "dados.head()"
   ]
  },
  {
   "cell_type": "code",
   "execution_count": 4,
   "metadata": {
    "collapsed": true
   },
   "outputs": [],
   "source": [
    "df = dados[['cylinders','hp','time-to-60']].copy()"
   ]
  },
  {
   "cell_type": "code",
   "execution_count": 5,
   "metadata": {
    "collapsed": true
   },
   "outputs": [],
   "source": [
    "df.loc[(dados.mpg>0)|(dados.mpg<1000), 'Consumo(Km/L)']=dados.mpg*0.425\n",
    "df.loc[(dados.weightlbs>0)|(dados.weightlbs<100000), 'Peso']=dados.weightlbs*0.453592\n",
    "df.loc[(dados.cubicinches>0)|(dados.cubicinches<1000), 'Cilindradas(L)']=dados.cubicinches/0.061024/1000"
   ]
  },
  {
   "cell_type": "code",
   "execution_count": 6,
   "metadata": {},
   "outputs": [
    {
     "data": {
      "text/html": [
       "<div>\n",
       "<style scoped>\n",
       "    .dataframe tbody tr th:only-of-type {\n",
       "        vertical-align: middle;\n",
       "    }\n",
       "\n",
       "    .dataframe tbody tr th {\n",
       "        vertical-align: top;\n",
       "    }\n",
       "\n",
       "    .dataframe thead th {\n",
       "        text-align: right;\n",
       "    }\n",
       "</style>\n",
       "<table border=\"1\" class=\"dataframe\">\n",
       "  <thead>\n",
       "    <tr style=\"text-align: right;\">\n",
       "      <th></th>\n",
       "      <th>Cilindros</th>\n",
       "      <th>Potência(hp)</th>\n",
       "      <th>0-100(s)</th>\n",
       "      <th>Consumo(Km/L)</th>\n",
       "      <th>Peso</th>\n",
       "      <th>Cilindradas(L)</th>\n",
       "    </tr>\n",
       "  </thead>\n",
       "  <tbody>\n",
       "    <tr>\n",
       "      <th>0</th>\n",
       "      <td>8</td>\n",
       "      <td>165</td>\n",
       "      <td>12</td>\n",
       "      <td>5.9500</td>\n",
       "      <td>1909.168728</td>\n",
       "      <td>5.735448</td>\n",
       "    </tr>\n",
       "    <tr>\n",
       "      <th>1</th>\n",
       "      <td>4</td>\n",
       "      <td>71</td>\n",
       "      <td>14</td>\n",
       "      <td>13.5575</td>\n",
       "      <td>873.164600</td>\n",
       "      <td>1.458443</td>\n",
       "    </tr>\n",
       "    <tr>\n",
       "      <th>2</th>\n",
       "      <td>8</td>\n",
       "      <td>140</td>\n",
       "      <td>11</td>\n",
       "      <td>7.2250</td>\n",
       "      <td>1564.438808</td>\n",
       "      <td>4.948873</td>\n",
       "    </tr>\n",
       "    <tr>\n",
       "      <th>3</th>\n",
       "      <td>8</td>\n",
       "      <td>150</td>\n",
       "      <td>10</td>\n",
       "      <td>6.3750</td>\n",
       "      <td>1705.959512</td>\n",
       "      <td>6.554798</td>\n",
       "    </tr>\n",
       "    <tr>\n",
       "      <th>4</th>\n",
       "      <td>4</td>\n",
       "      <td>63</td>\n",
       "      <td>17</td>\n",
       "      <td>12.9625</td>\n",
       "      <td>930.317192</td>\n",
       "      <td>1.605926</td>\n",
       "    </tr>\n",
       "  </tbody>\n",
       "</table>\n",
       "</div>"
      ],
      "text/plain": [
       "   Cilindros  Potência(hp)  0-100(s)  Consumo(Km/L)         Peso  \\\n",
       "0          8           165        12         5.9500  1909.168728   \n",
       "1          4            71        14        13.5575   873.164600   \n",
       "2          8           140        11         7.2250  1564.438808   \n",
       "3          8           150        10         6.3750  1705.959512   \n",
       "4          4            63        17        12.9625   930.317192   \n",
       "\n",
       "   Cilindradas(L)  \n",
       "0        5.735448  \n",
       "1        1.458443  \n",
       "2        4.948873  \n",
       "3        6.554798  \n",
       "4        1.605926  "
      ]
     },
     "execution_count": 6,
     "metadata": {},
     "output_type": "execute_result"
    }
   ],
   "source": [
    "df = df.rename(index=str, columns={\"cylinders\": \"Cilindros\", \"hp\": \"Potência(hp)\", \"time-to-60\":\"0-100(s)\" })\n",
    "df.head()"
   ]
  },
  {
   "cell_type": "code",
   "execution_count": 27,
   "metadata": {
    "collapsed": true
   },
   "outputs": [],
   "source": [
    "df=shuffle(df)\n",
    "tamanhodf= len(df)\n",
    "\n",
    "dftreino = df.iloc[0:int(tamanhodf*0.75), :]\n",
    "dfteste = df.iloc[int(tamanhodf*0.75):, :]"
   ]
  },
  {
   "cell_type": "markdown",
   "metadata": {},
   "source": [
    "### ANÁLISE DESCRITIVA"
   ]
  },
  {
   "cell_type": "markdown",
   "metadata": {
    "collapsed": true
   },
   "source": [
    "As variáveis a serem utilizadas são: quantidade de cilíndros no motor do carro, a potência, tempo de aceleração de 0 a 100 km/h, o peso do veículo e a capacidade volumétrica do motor, além da variável a ser predizida que será o consumo em km/L."
   ]
  },
  {
   "cell_type": "markdown",
   "metadata": {
    "collapsed": true
   },
   "source": [
    "Com a utilização da variáveis descritas acima, pretende-se criar diferentes modelos de predição à fim de encontrar um que se encaixe melhor no propósito do trabalho, predizer o consumo baseado nas variáveis escolhidas. Esta variáveis serão as utilizadas, pois dentro do dataset original foram as que, o grupo julgou terem papel influente no consumo de combustível."
   ]
  },
  {
   "cell_type": "markdown",
   "metadata": {
    "collapsed": true
   },
   "source": [
    "A quantidade de cilíndros, bem como a capacidade volumétrica do motor (diretamente ligada ao tamanho dos cilíndros), influência na quantidade de combustível gasta em um ciclo do motor.\n",
    "\n",
    "A potência e o tempo de 0 a 100 km/h tem provável correlaçao com a velocidade de consumo de combustível, ou seja a rapidez de um ciclo do motor.\n",
    "\n",
    "E finalmente o peso, que influência diretamente no trabalho realizado, ou seja, a força necessária para movimentar o veículo. Quanto maior o peso, maior o trabalho, e portanto, maior o gasto de combustível."
   ]
  },
  {
   "cell_type": "markdown",
   "metadata": {},
   "source": [
    "___\n",
    "## MODELOS DE PREDIÇÃO\n"
   ]
  },
  {
   "cell_type": "markdown",
   "metadata": {
    "collapsed": true
   },
   "source": [
    "[O tópico C.PROCESSO E ESTATÍSTICAS DE VALIDAÇÃO estará dentro deste tópico. Organize-o aqui de forma clara!]\n",
    "\n",
    "[ORGANIZE AQUI TODOS OS MODELOS DE PREDIÇÃO NECESSÁRIOS NESTE PROJETO!]"
   ]
  },
  {
   "cell_type": "markdown",
   "metadata": {
    "collapsed": true
   },
   "source": [
    "o MODELO DE PREDIÇÃO PELA MÉDIA\n",
    "\n",
    "o MODELO DOS K VIZINHOS MAIS PRÓXIMOS (K-Nearest Neighbors Regression)\n",
    "\n",
    "o MODELO DE REGRESSÃO LINEAR (Multiple Linear Regression)\n",
    "\n",
    "o MODELO DE ÁRVORES DE REGRESSÃO (Decision Tree Regression)"
   ]
  },
  {
   "cell_type": "markdown",
   "metadata": {},
   "source": [
    "### MODELO DE PREDIÇÃO PELA MÉDIA"
   ]
  },
  {
   "cell_type": "code",
   "execution_count": 33,
   "metadata": {
    "collapsed": true
   },
   "outputs": [],
   "source": [
    "média =np.mean(dftreino[\"Consumo(Km/L)\"])"
   ]
  },
  {
   "cell_type": "markdown",
   "metadata": {},
   "source": [
    "#### PROCESSO E ESTATÍSTICAS DE VALIDAÇÃO "
   ]
  },
  {
   "cell_type": "code",
   "execution_count": 47,
   "metadata": {},
   "outputs": [
    {
     "name": "stdout",
     "output_type": "stream",
     "text": [
      "RMS da base de treino: 12.203600820583775\n",
      "R² da base de treino: 0.27365248718833823\n",
      "\n",
      "RMS da base de teste: 10.797216078016485\n",
      "R² da base de teste: 0.7263475128116617\n"
     ]
    }
   ],
   "source": [
    "listaRMSmédiaTreino=[]\n",
    "listaRMSmédiaTeste=[]\n",
    "listaRMSmédiaTotal=[]\n",
    "\n",
    "for i in dftreino[\"Consumo(Km/L)\"]:\n",
    "    a = (i-média)**2\n",
    "    listaRMSmédiaTreino.append(a)\n",
    "    \n",
    "for i in dfteste[\"Consumo(Km/L)\"]:\n",
    "    b = (i-média)**2\n",
    "    listaRMSmédiaTeste.append(b)\n",
    "    \n",
    "for i in df[\"Consumo(Km/L)\"]:\n",
    "    c = (i-média)**2\n",
    "    listaRMSmédiaTotal.append(c)\n",
    "    \n",
    "RMS_média_treino = (1/len(dfteste))*sum(listaRMSmédiaTeste)\n",
    "RMS_média_teste = (1/len(dftreino))*sum(listaRMSmédiaTreino)\n",
    "\n",
    "R_quadrado_treino=1-(sum(listaRMSmédiaTreino)/sum(listaRMSmédiaTotal))\n",
    "R_quadrado_teste=1-(sum(listaRMSmédiaTeste)/sum(listaRMSmédiaTotal))\n",
    "\n",
    "print(\"RMS da base de treino: {}\".format(RMS_média_treino))\n",
    "print(\"R\\u00b2 da base de treino: {}\\n\".format(R_quadrado_treino))\n",
    "print(\"RMS da base de teste: {}\".format(RMS_média_teste))\n",
    "print(\"R\\u00b2 da base de teste: {}\".format(R_quadrado_teste))"
   ]
  },
  {
   "cell_type": "markdown",
   "metadata": {},
   "source": [
    "O modelo preditivo por média apresentou resultados interessantes. Com o cálculo do RMS e do R² tanto para o dataframe de treino quanto para o de testes é possível fazer uma breve comparação entre os dois. COntrariando a expectativa, a predição pela média obteve melhor resultado ao ser utilizada com o dataframe de treino e não com o de testes como era esperado a príncipio, por se tratar do dataframe originário do treinamento. \n",
    "\n",
    "A partir de uma avaliação dos valores calculados e sabendo que quanto mais próximo o RMS está de 0 mais a previsão corresponde aos valores da base utilizada para verificar sua qualidade, é possível perceber que o comprovação feito com a base de teste possui um valor menor e portanto corresponde melhor à realidade. Além disso, o cálculo do R² mostra em porcentagem o quanto a previsão consegue explicar os valores comparados, ou seja, oteve-se uma equivalência de quase 73% na utilização da predição pela média com o dataframe de testes equanto o de treinamento teve apenas 27%, aproximadamente.\n",
    "\n",
    "Como ainda não foram realizados outros tipos de predição não da para se afirmar com convicção se essa predição esta mais próxima de \"overfitting\" ou \"underfitting\", mas com o baixo resultado em relação ao dataframe de treino é muito provável que este seja um caso de prediçao com \"underfitting\" ao passo que a com o dataframe de teste esteja mais próxima do \"overfitting\", apesar de essa ser uma avaliação superficial, é a única que é possível ser feito por enquanto"
   ]
  },
  {
   "cell_type": "markdown",
   "metadata": {
    "collapsed": true
   },
   "source": [
    "### MODELO DOS K VIZINHOS MAIS PRÓXIMOS (K-Nearest Neighbors Regression)"
   ]
  },
  {
   "cell_type": "code",
   "execution_count": null,
   "metadata": {
    "collapsed": true
   },
   "outputs": [],
   "source": []
  },
  {
   "cell_type": "markdown",
   "metadata": {
    "collapsed": true
   },
   "source": [
    "#### PROCESSO E ESTATÍSTICAS DE VALIDAÇÃO "
   ]
  },
  {
   "cell_type": "code",
   "execution_count": null,
   "metadata": {
    "collapsed": true
   },
   "outputs": [],
   "source": []
  },
  {
   "cell_type": "markdown",
   "metadata": {
    "collapsed": true
   },
   "source": [
    "### MODELO DE REGRESSÃO LINEAR (Multiple Linear Regression)"
   ]
  },
  {
   "cell_type": "code",
   "execution_count": null,
   "metadata": {
    "collapsed": true
   },
   "outputs": [],
   "source": []
  },
  {
   "cell_type": "markdown",
   "metadata": {},
   "source": [
    "#### PROCESSO E ESTATÍSTICAS DE VALIDAÇÃO "
   ]
  },
  {
   "cell_type": "code",
   "execution_count": null,
   "metadata": {
    "collapsed": true
   },
   "outputs": [],
   "source": []
  },
  {
   "cell_type": "markdown",
   "metadata": {
    "collapsed": true
   },
   "source": [
    "### MODELO DE ÁRVORES DE REGRESSÃO (Decision Tree Regression)"
   ]
  },
  {
   "cell_type": "code",
   "execution_count": null,
   "metadata": {
    "collapsed": true
   },
   "outputs": [],
   "source": []
  },
  {
   "cell_type": "markdown",
   "metadata": {},
   "source": [
    "#### PROCESSO E ESTATÍSTICAS DE VALIDAÇÃO "
   ]
  },
  {
   "cell_type": "code",
   "execution_count": null,
   "metadata": {
    "collapsed": true
   },
   "outputs": [],
   "source": []
  },
  {
   "cell_type": "markdown",
   "metadata": {},
   "source": [
    "___\n",
    "## CONCLUSÃO"
   ]
  },
  {
   "cell_type": "code",
   "execution_count": null,
   "metadata": {
    "collapsed": true
   },
   "outputs": [],
   "source": []
  },
  {
   "cell_type": "code",
   "execution_count": null,
   "metadata": {
    "collapsed": true
   },
   "outputs": [],
   "source": []
  },
  {
   "cell_type": "code",
   "execution_count": null,
   "metadata": {
    "collapsed": true
   },
   "outputs": [],
   "source": []
  },
  {
   "cell_type": "markdown",
   "metadata": {},
   "source": [
    "___\n",
    "## REFERÊNCIAS BIBLIOGRÁFICAS"
   ]
  },
  {
   "cell_type": "code",
   "execution_count": null,
   "metadata": {
    "collapsed": true
   },
   "outputs": [],
   "source": []
  },
  {
   "cell_type": "code",
   "execution_count": null,
   "metadata": {
    "collapsed": true
   },
   "outputs": [],
   "source": []
  },
  {
   "cell_type": "code",
   "execution_count": null,
   "metadata": {
    "collapsed": true
   },
   "outputs": [],
   "source": []
  },
  {
   "cell_type": "code",
   "execution_count": null,
   "metadata": {
    "collapsed": true
   },
   "outputs": [],
   "source": []
  }
 ],
 "metadata": {
  "anaconda-cloud": {},
  "kernelspec": {
   "display_name": "Python 3",
   "language": "python",
   "name": "python3"
  },
  "language_info": {
   "codemirror_mode": {
    "name": "ipython",
    "version": 3
   },
   "file_extension": ".py",
   "mimetype": "text/x-python",
   "name": "python",
   "nbconvert_exporter": "python",
   "pygments_lexer": "ipython3",
   "version": "3.6.3"
  }
 },
 "nbformat": 4,
 "nbformat_minor": 1
}
