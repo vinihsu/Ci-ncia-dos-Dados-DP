{
 "cells": [
  {
   "cell_type": "markdown",
   "metadata": {
    "collapsed": true
   },
   "source": [
    "___\n",
    "\n",
    "# Experimento dos resistores - APS7 (um dos exercícios)\n",
    "\n",
    "** Compraria o lote de resistores pelo valor médio e pela tolerância? **\n",
    "\n",
    "Use a sua amostra para concluir se compraria o lote de resistores pelo controle de qualidade tanto quanto aos $1000 k\\Omega$ e quanto aos $5\\%$ de tolerância.\n",
    "\n",
    "Use 95% de confiança para tomada de decisão!"
   ]
  },
  {
   "cell_type": "code",
   "execution_count": 12,
   "metadata": {},
   "outputs": [],
   "source": [
    "import pandas as pd\n",
    "import numpy as np"
   ]
  },
  {
   "cell_type": "code",
   "execution_count": 18,
   "metadata": {},
   "outputs": [
    {
     "name": "stdout",
     "output_type": "stream",
     "text": [
      "Média:  1.0312307692307692\n",
      "Desvio padrão amostral:  0.0202078938625225\n"
     ]
    }
   ],
   "source": [
    "lista_Resistores = [1.035, 1.026,1.031,1.004,1.027,1.025,0.987,1.048,1.055,1.044,1.019,1.048,1.057]\n",
    "lista_Resistores = pd.Series(lista_Resistores)\n",
    "quantidade = len(lista_Resistores)\n",
    "\n",
    "média = np.mean(lista_Resistores)\n",
    "desvio = np.std(lista_Resistores,ddof=1)\n",
    "\n",
    "print(\"Média: \", média)\n",
    "print(\"Desvio padrão amostral: \", desvio)"
   ]
  },
  {
   "cell_type": "code",
   "execution_count": 19,
   "metadata": {},
   "outputs": [],
   "source": [
    "média_bootstrap = []\n",
    "\n",
    "rodagens = 15000\n",
    "for i in range(rodagens):\n",
    "    média = np.mean(np.random.choice(lista_Resistores, quantidade, replace=True))\n",
    "    média_bootstrap.append(média)\n",
    "média_bootstrap = pd.Series(média_bootstrap)"
   ]
  },
  {
   "cell_type": "code",
   "execution_count": 23,
   "metadata": {},
   "outputs": [
    {
     "name": "stdout",
     "output_type": "stream",
     "text": [
      "1.0204615384615385 1.0412307692307694\n"
     ]
    }
   ],
   "source": [
    "pontoem_doismeio = np.percentile(média_bootstrap, 2.5)\n",
    "pontoem_noventaoitomeio = np.percentile(média_bootstrap, 100-2.5)\n",
    "print(pontoem_doismeio,pontoem_noventaoitomeio)"
   ]
  },
  {
   "cell_type": "markdown",
   "metadata": {
    "collapsed": true
   },
   "source": [
    "Os resistores para o intervalo ed confianca de 95% apresentam valores entre 1.02 e 1.04, o que representa um erro de ate 4% do valor divulgado de resistência, portanto o lote pode ser comprado, uma vez que esta dentro da tolerância exijida pelo controle de qualidade."
   ]
  }
 ],
 "metadata": {
  "anaconda-cloud": {},
  "kernelspec": {
   "display_name": "Python 3",
   "language": "python",
   "name": "python3"
  },
  "language_info": {
   "codemirror_mode": {
    "name": "ipython",
    "version": 3
   },
   "file_extension": ".py",
   "mimetype": "text/x-python",
   "name": "python",
   "nbconvert_exporter": "python",
   "pygments_lexer": "ipython3",
   "version": "3.6.4"
  }
 },
 "nbformat": 4,
 "nbformat_minor": 1
}
